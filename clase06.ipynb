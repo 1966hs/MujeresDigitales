{
  "nbformat": 4,
  "nbformat_minor": 0,
  "metadata": {
    "colab": {
      "name": "clase06.ipynb",
      "provenance": [],
      "authorship_tag": "ABX9TyMmCEXnvHejPG83uSyOql9e",
      "include_colab_link": true
    },
    "kernelspec": {
      "name": "python3",
      "display_name": "Python 3"
    },
    "language_info": {
      "name": "python"
    }
  },
  "cells": [
    {
      "cell_type": "markdown",
      "metadata": {
        "id": "view-in-github",
        "colab_type": "text"
      },
      "source": [
        "<a href=\"https://colab.research.google.com/github/1966hs/MujeresDigitales/blob/main/clase06.ipynb\" target=\"_parent\"><img src=\"https://colab.research.google.com/assets/colab-badge.svg\" alt=\"Open In Colab\"/></a>"
      ]
    },
    {
      "cell_type": "markdown",
      "metadata": {
        "id": "Z98T-Cl4oZjY"
      },
      "source": [
        "**Continuacion de los ejemplos del uso de lista de compresion**\n",
        "\n",
        "---\n",
        "#Compresion de Conjuntos \n",
        "\n",
        "\n",
        "---\n",
        "La comprension es muy similar a la que veniamos manejando con lista. La unica diferencia es que se usa los { }\n",
        "\n",
        "Recordemos que los conjuntos tambien denominados *sets* no permiten duplicados, es decir, cada elemento es unico. Si se llega añadir un elemento repetitivo, no arrojara error pero no se mostrara en el print.\n",
        "\n",
        "\n"
      ]
    },
    {
      "cell_type": "code",
      "metadata": {
        "colab": {
          "base_uri": "https://localhost:8080/"
        },
        "id": "ZBbW4M8dpk96",
        "outputId": "0cf8bc62-0d1c-492a-c7cf-f1f988b398b4"
      },
      "source": [
        "sa=\"ema ama a mama\"\n",
        "sa2={i for i in sa if i ==\"m\"} # no muestra una repeticion, solo el valor y ya \n",
        "print(sa2)"
      ],
      "execution_count": null,
      "outputs": [
        {
          "output_type": "stream",
          "text": [
            "{'m'}\n"
          ],
          "name": "stdout"
        }
      ]
    },
    {
      "cell_type": "markdown",
      "metadata": {
        "id": "5WBHOux3qm0C"
      },
      "source": [
        ""
      ]
    },
    {
      "cell_type": "markdown",
      "metadata": {
        "id": "SQ36k-hQqnCt"
      },
      "source": [
        ""
      ]
    },
    {
      "cell_type": "markdown",
      "metadata": {
        "id": "bGIkSqw9qnTH"
      },
      "source": [
        "Diccionarios de compresion. La unica diferencia es que tiene respecto a las listas o conjuntos de compresion es la especificacion de llaves o claves(key)"
      ]
    },
    {
      "cell_type": "code",
      "metadata": {
        "colab": {
          "base_uri": "https://localhost:8080/"
        },
        "id": "cnImTa3TrIxN",
        "outputId": "0c3a3269-9d02-4b0a-b131-ab9c9bcf7e9a"
      },
      "source": [
        "lista1=['nombre', 'apellido', 'cuidad']\n",
        "lista2=['Ana', 'Perez' , 'Popayan']\n",
        "\n",
        "dict={i:j for i,j in zip (lista1, lista2)}\n",
        "print(dict)"
      ],
      "execution_count": null,
      "outputs": [
        {
          "output_type": "stream",
          "text": [
            "{'nombre': 'Ana', 'apellido': 'Perez', 'cuidad': 'Popayan'}\n"
          ],
          "name": "stdout"
        }
      ]
    },
    {
      "cell_type": "markdown",
      "metadata": {
        "id": "iuAcc-IaryeE"
      },
      "source": [
        "Pudimos observas que añadiendo los dos puntos (:) asignamos un valor a  la llave declarada, a su vez usamos zip () el cual tiene como funcion iterar dos listas en paralelo\n",
        "\n",
        "Con *zip* podemos convertir dos listas en un diccionario, y el for se manejan operando dos valores en simultaneo "
      ]
    },
    {
      "cell_type": "markdown",
      "metadata": {
        "id": "AKmwfz9dsb9R"
      },
      "source": [
        "Otras Estructuras de Control \n",
        "\n",
        "\n",
        "---\n",
        "\n",
        "1. Switch \n",
        "2. Break \n",
        "3. Continue \n",
        "4. Complementos de iteracion (Enumerate)\n",
        "\n",
        "\n",
        "\n",
        "---\n",
        "\n",
        "**1. SWITCH** \n",
        "El switch es una herramienta permite ejecutar diferentes secciones de codigo deppendiendo de las condiciones impuesta. \n",
        "Es similar a un ussar un if anidado o varios por serparado al mismo tiempo\n",
        "\n",
        "Sin embargo en Pythonn no hay in switc directo\n",
        "\n",
        "**2. BREAK**\n",
        "Nos permite alterar el compartamiento de los ciclos de while y for. Directamente su fncion es la de finalizar los ciclos \n"
      ]
    },
    {
      "cell_type": "code",
      "metadata": {
        "colab": {
          "base_uri": "https://localhost:8080/"
        },
        "id": "U_TEjLjqt6mT",
        "outputId": "224b1ac8-bfae-42d1-cd57-7b65454ef193"
      },
      "source": [
        "x=\"Heidy\"\n",
        "for i in x:\n",
        " if i==\"e\":\n",
        "   print(\"Se obtuvo la letra e\")\n",
        "   break \n",
        "   "
      ],
      "execution_count": null,
      "outputs": [
        {
          "output_type": "stream",
          "text": [
            "Se obtuvo la letra e\n"
          ],
          "name": "stdout"
        }
      ]
    },
    {
      "cell_type": "code",
      "metadata": {
        "colab": {
          "base_uri": "https://localhost:8080/"
        },
        "id": "6VLblq8nvLMM",
        "outputId": "69f1cc43-e7b6-4b0a-8663-a6db2eaeb7f9"
      },
      "source": [
        "x=15\n",
        "while True :\n",
        "  x -=1\n",
        "  print(x)\n",
        "  if x==0:\n",
        "    break #finalizacion de ciclo interrumpida \n",
        "print(\"se finalizo ciclo\")"
      ],
      "execution_count": null,
      "outputs": [
        {
          "output_type": "stream",
          "text": [
            "14\n",
            "13\n",
            "12\n",
            "11\n",
            "10\n",
            "9\n",
            "8\n",
            "7\n",
            "6\n",
            "5\n",
            "4\n",
            "3\n",
            "2\n",
            "1\n",
            "0\n",
            "se finalizo ciclo\n"
          ],
          "name": "stdout"
        }
      ]
    },
    {
      "cell_type": "code",
      "metadata": {
        "colab": {
          "base_uri": "https://localhost:8080/"
        },
        "id": "0KXcJSuxwUPg",
        "outputId": "1e30b2a9-5a47-42b0-fbad-54dd01033846"
      },
      "source": [
        "#Uso de brack con los ciclos anidados: \n",
        "for i in range (1,8):\n",
        "  for j   in range(1,8):\n",
        "    break#el break paro para el ciclo del for j, lo paro en 1 pero el for de i si itero normal \n",
        "    #El break no afecta el for exterior. rompe el ciclo anidado en su conjunto, pero no afecta directamente el ciclo exterior \n",
        "  print(i,j)\n"
      ],
      "execution_count": null,
      "outputs": [
        {
          "output_type": "stream",
          "text": [
            "1 1\n",
            "2 1\n",
            "3 1\n",
            "4 1\n",
            "5 1\n",
            "6 1\n",
            "7 1\n"
          ],
          "name": "stdout"
        }
      ]
    },
    {
      "cell_type": "markdown",
      "metadata": {
        "id": "CpuurMgaxwAA"
      },
      "source": [
        "**3. CONTINUE**\n",
        "El *continue* se salta todo el codigo restante en la iteracion actual y vuelve al principio en caso que queden elementos por iterar .\n",
        "\n",
        "Diferencias entre brak y continue:\n",
        "La principal difenrencia es que continue no rompe el ciclo, si no que pasa a la iteracion pendiente. \n"
      ]
    },
    {
      "cell_type": "code",
      "metadata": {
        "colab": {
          "base_uri": "https://localhost:8080/"
        },
        "id": "kRiBKZJ7ykHq",
        "outputId": "c3d158f5-4b03-4a44-f43d-3ca4d443305e"
      },
      "source": [
        "x=\"Heidy\"\n",
        "for i in x:\n",
        "  if i==\"e\":\n",
        "   continue  #me salta lo que esta en la parte superior \n",
        "  print(i)"
      ],
      "execution_count": null,
      "outputs": [
        {
          "output_type": "stream",
          "text": [
            "H\n",
            "i\n",
            "d\n",
            "y\n"
          ],
          "name": "stdout"
        }
      ]
    },
    {
      "cell_type": "code",
      "metadata": {
        "colab": {
          "base_uri": "https://localhost:8080/"
        },
        "id": "Jf3lTIOPy7ug",
        "outputId": "dfce453d-87fb-4386-f5f2-5153b1a58a3e"
      },
      "source": [
        "x=15\n",
        "while x>0:\n",
        "  x -=1\n",
        "  if x==4: #al poner continue me salta el numero 4 \n",
        "    continue \n",
        "  print(x)"
      ],
      "execution_count": null,
      "outputs": [
        {
          "output_type": "stream",
          "text": [
            "14\n",
            "13\n",
            "12\n",
            "11\n",
            "10\n",
            "9\n",
            "8\n",
            "7\n",
            "6\n",
            "5\n",
            "3\n",
            "2\n",
            "1\n",
            "0\n"
          ],
          "name": "stdout"
        }
      ]
    },
    {
      "cell_type": "markdown",
      "metadata": {
        "id": "OU6KmFOqzV14"
      },
      "source": [
        "**4. ITERAR CON ENUMERATE**\n",
        "\n",
        "---\n",
        "Python nos permite iterar colecciones de objetos y elementos de la misma forma. Sin embargo hay una opcion que es que en algunas situaciones que queramos acceder a un elemento ordenado podemos hacerlo nombrando el indice de cada elemento llamado.\n",
        "\n"
      ]
    },
    {
      "cell_type": "code",
      "metadata": {
        "colab": {
          "base_uri": "https://localhost:8080/"
        },
        "id": "GLM-Gfm9z4KK",
        "outputId": "12046feb-9827-4f9c-802e-112eaefadf07"
      },
      "source": [
        "W=[\"sa\",\"se\",\"si\",\"so\",\"su\"]\n",
        "indice=0 #que empezara desde 0 \n",
        "for i in W:\n",
        "  print(indice , i )\n",
        "  indice +=1"
      ],
      "execution_count": null,
      "outputs": [
        {
          "output_type": "stream",
          "text": [
            "0 sa\n",
            "1 se\n",
            "2 si\n",
            "3 so\n",
            "4 su\n"
          ],
          "name": "stdout"
        }
      ]
    },
    {
      "cell_type": "code",
      "metadata": {
        "colab": {
          "base_uri": "https://localhost:8080/"
        },
        "id": "S-8mPyIq0cCP",
        "outputId": "ecc233f3-32c3-4e91-ff76-88c2e507a275"
      },
      "source": [
        "W=[\"sa\",\"se\",\"si\",\"so\",\"su\"]\n",
        "for indice, i in enumerate(W):\n",
        "  print(indice, i)\n"
      ],
      "execution_count": null,
      "outputs": [
        {
          "output_type": "stream",
          "text": [
            "0 sa\n",
            "1 se\n",
            "2 si\n",
            "3 so\n",
            "4 su\n"
          ],
          "name": "stdout"
        }
      ]
    },
    {
      "cell_type": "code",
      "metadata": {
        "colab": {
          "base_uri": "https://localhost:8080/"
        },
        "id": "DNKACeK61IpL",
        "outputId": "2db8bac9-e8ba-4fe3-f1b1-8d6b5c28a165"
      },
      "source": [
        "W=[\"sa\",\"se\",\"si\",\"so\",\"su\"]\n",
        "for indice, i in enumerate(W):\n",
        " print(indice,i)\n",
        "x=list(enumerate(W))\n",
        "print(x)"
      ],
      "execution_count": null,
      "outputs": [
        {
          "output_type": "stream",
          "text": [
            "0 sa\n",
            "1 se\n",
            "2 si\n",
            "3 so\n",
            "4 su\n",
            "[(0, 'sa'), (1, 'se'), (2, 'si'), (3, 'so'), (4, 'su')]\n"
          ],
          "name": "stdout"
        }
      ]
    },
    {
      "cell_type": "markdown",
      "metadata": {
        "id": "L6R_1_RC1q4X"
      },
      "source": [
        "**Uso zip()**\n",
        "\n",
        "\n",
        "---\n",
        "\n",
        "Si pasamos dos listas a zip, el resultado sera una tupla donde cada elemento tendra todos y cada uno de los elementos de las entradas\n"
      ]
    },
    {
      "cell_type": "code",
      "metadata": {
        "colab": {
          "base_uri": "https://localhost:8080/"
        },
        "id": "Y8H_xs_n2DqK",
        "outputId": "3ca57e4f-de1c-407d-f6d2-1e386709a91f"
      },
      "source": [
        "a=[1,2,3]\n",
        "b=[\"a\",\"b\",\"c\"]\n",
        "q=[\"q\",\"w\",\"e\"]\n",
        "Z=[10,23,45]\n",
        "c=zip(a,b) #union de las dos listas \n",
        "print(c) # le va decir los tipos de objetos \n",
        "\n",
        "print(list(c))#convetir la salida en una lista \n",
        "\n",
        "print(\"------------------------------\")\n",
        "\n",
        "for i, j,d,h  in zip(a,b,q,Z): #UNIONES \n",
        "  print(i,j,d,h)\n"
      ],
      "execution_count": null,
      "outputs": [
        {
          "output_type": "stream",
          "text": [
            "<zip object at 0x7eff51a38c30>\n",
            "[(1, 'a'), (2, 'b'), (3, 'c')]\n",
            "------------------------------\n",
            "1 a q 10\n",
            "2 b w 23\n",
            "3 c e 45\n"
          ],
          "name": "stdout"
        }
      ]
    },
    {
      "cell_type": "code",
      "metadata": {
        "colab": {
          "base_uri": "https://localhost:8080/"
        },
        "id": "QrgfOjgd387H",
        "outputId": "9f13abbf-ad80-414d-d0e3-af9b0407dd6b"
      },
      "source": [
        "a=[1,2,4] # el tercer elemento que es impar no me lo itera, forma las parejas \n",
        "b=[\"a\",\"b\"]\n",
        "for he, li in zip(a,b):\n",
        "   print(he,li)\n"
      ],
      "execution_count": null,
      "outputs": [
        {
          "output_type": "stream",
          "text": [
            "1 a\n",
            "2 b\n"
          ],
          "name": "stdout"
        }
      ]
    },
    {
      "cell_type": "code",
      "metadata": {
        "colab": {
          "base_uri": "https://localhost:8080/"
        },
        "id": "-Ib2hhyu4zw5",
        "outputId": "fe1c1c40-9b70-4a06-90b0-63a45b3c0c00"
      },
      "source": [
        "##romper el zip \n",
        "\n",
        "a=[1,2,3]\n",
        "b=[\"a\",\"b\",\"c\"]\n",
        "c=zip(a,b)\n",
        "print(list(c))\n",
        "print(a)\n",
        "print(b)\n",
        "# se hace el print de cada una \n",
        "print(\"---------------------------\")\n",
        "C=[(1,\"A\"),(2,\"B\"), (3,\"C\")]\n",
        "a,b=zip(*C)\n",
        "print(a)\n",
        "print(b)\n"
      ],
      "execution_count": null,
      "outputs": [
        {
          "output_type": "stream",
          "text": [
            "[(1, 'a'), (2, 'b'), (3, 'c')]\n",
            "[1, 2, 3]\n",
            "['a', 'b', 'c']\n",
            "---------------------------\n",
            "(1, 2, 3)\n",
            "('A', 'B', 'C')\n"
          ],
          "name": "stdout"
        }
      ]
    },
    {
      "cell_type": "markdown",
      "metadata": {
        "id": "R3Z5FsCg6Chg"
      },
      "source": [
        "\n",
        "\n",
        "---\n",
        "\n",
        "#**FUNCIONES**\n",
        "\n",
        "\n",
        "---\n",
        "La funcion nos permite ordenar de manera adecuada la generacion de objetos y bloques de codigo por ciclos y demas estructuras. \n",
        "\n",
        "Sintaxis:\n",
        "\n",
        "def nombre_funcion (argumentos):\n",
        "\n",
        "  bloque de codigo \n",
        "\n",
        "  nombre_funcion (salida de argumentos)\n",
        "\n"
      ]
    },
    {
      "cell_type": "code",
      "metadata": {
        "colab": {
          "base_uri": "https://localhost:8080/"
        },
        "id": "6mgCLbQT6S4g",
        "outputId": "464f4d73-9f4a-4954-f909-ccef985465e2"
      },
      "source": [
        "def d(h):\n",
        "  return 2*h\n",
        "\n",
        "y=d(3) # el valor de h es 3 \n",
        "print(y)\n",
        "  \n"
      ],
      "execution_count": null,
      "outputs": [
        {
          "output_type": "stream",
          "text": [
            "6\n"
          ],
          "name": "stdout"
        }
      ]
    },
    {
      "cell_type": "markdown",
      "metadata": {
        "id": "HV7lJHIf7gED"
      },
      "source": [
        "Las funciones no solo realizan  una operacion con sus entradas ( argumentos de inicio). si no tambien parten de los seguientes principios:\n",
        "\n",
        "**1. Reusabilidad:** Si tenemos un fragmento de codigo usado en muchos sitios, y se guarda en un funcion. Nos evitara tener codigos repetidos , ademas de la conveniencia que tiene por ser facilmente editable\n",
        "\n",
        "**2. Modularidad:** Permite legibilidad de forma mas sencilla, es decir, los largos bloques de codigo se pueden agrupar en modulos o funciones y la lectura va a ser mucho mas sencilla \n",
        "\n"
      ]
    },
    {
      "cell_type": "code",
      "metadata": {
        "colab": {
          "base_uri": "https://localhost:8080/"
        },
        "id": "3Mp890Ff8hE2",
        "outputId": "42480d60-6f91-4fbd-d2c1-358e017437f0"
      },
      "source": [
        "#Ejemplo #1: Funcion sin argumentos de entrada ni parametros de salida:\n",
        "\n",
        "def s(): #Declaracion de funcion \n",
        "  print(\"Hi Heidy\")\n",
        "s() # Al ceerrar la definicion de funcion me va aparecer la ejecucion del bloque se codigo "
      ],
      "execution_count": null,
      "outputs": [
        {
          "output_type": "stream",
          "text": [
            "Hi Heidy\n"
          ],
          "name": "stdout"
        }
      ]
    },
    {
      "cell_type": "code",
      "metadata": {
        "colab": {
          "base_uri": "https://localhost:8080/"
        },
        "id": "oPYTePFY9KKB",
        "outputId": "572be9f4-a7fd-4f5f-f782-26f33b7d45cd"
      },
      "source": [
        "#Ejemplo #2 : Incluir argumentos de entrada y salida \n",
        "\n",
        "def s(apellido):\n",
        "  print(\"Hi Heidy\", apellido)\n",
        "s(\"Suazo\")"
      ],
      "execution_count": null,
      "outputs": [
        {
          "output_type": "stream",
          "text": [
            "Hi Heidy Suazo\n"
          ],
          "name": "stdout"
        }
      ]
    },
    {
      "cell_type": "code",
      "metadata": {
        "colab": {
          "base_uri": "https://localhost:8080/"
        },
        "id": "dgh4P5IJ9RS6",
        "outputId": "ceffa354-4bc2-4763-d05b-62e5096e706f"
      },
      "source": [
        "#Ejemplo #3: Usando dos argumentos de entrada y salida y operacion matematica\n",
        "\n",
        "def suma(a,b):\n",
        "  return a+b #operacion matematica \n",
        "suma(8,5) #añadiendo y mostrando mis resultados \n",
        "\n",
        "#suma(8) ahi sale error por que no esta la cantidad completa\n",
        "#la cantidad de elementos de entrada tiene que ser la misma cantidad de elementos de salida\n",
        "\n"
      ],
      "execution_count": null,
      "outputs": [
        {
          "output_type": "execute_result",
          "data": {
            "text/plain": [
              "13"
            ]
          },
          "metadata": {
            "tags": []
          },
          "execution_count": 72
        }
      ]
    },
    {
      "cell_type": "code",
      "metadata": {
        "colab": {
          "base_uri": "https://localhost:8080/"
        },
        "id": "fKhw5J2o-z-d",
        "outputId": "36498fbd-8d18-4ccc-edae-42cadf04ffa8"
      },
      "source": [
        "  #Ejemplo #4: Reusabilidad del codigo \n",
        "\n",
        "suma(a=4,b=4)\n"
      ],
      "execution_count": null,
      "outputs": [
        {
          "output_type": "execute_result",
          "data": {
            "text/plain": [
              "8"
            ]
          },
          "metadata": {
            "tags": []
          },
          "execution_count": 75
        }
      ]
    },
    {
      "cell_type": "code",
      "metadata": {
        "colab": {
          "base_uri": "https://localhost:8080/"
        },
        "id": "vWjv3lB5_glt",
        "outputId": "44e88462-fcb1-4d66-bb05-4cb0feb77fcd"
      },
      "source": [
        "#Ejemplo#4: Argumentos fijos desde el inicio \n",
        "\n",
        "def suma(a,b,c,d=5):\n",
        "  return a+b+c+d\n",
        "suma(2,3,4)\n"
      ],
      "execution_count": null,
      "outputs": [
        {
          "output_type": "execute_result",
          "data": {
            "text/plain": [
              "14"
            ]
          },
          "metadata": {
            "tags": []
          },
          "execution_count": 82
        }
      ]
    },
    {
      "cell_type": "code",
      "metadata": {
        "colab": {
          "base_uri": "https://localhost:8080/"
        },
        "id": "t1naLZ-HA3ki",
        "outputId": "35ad27e9-fc83-445b-b992-d6542327ac81"
      },
      "source": [
        "def suma(a=2, b=3, c=4, d=5):\n",
        "  return a+b+c+d\n",
        "suma()\n",
        "\n",
        "suma(1)\n",
        "suma(a=1,c=5) #cambiar el valor de la variable "
      ],
      "execution_count": null,
      "outputs": [
        {
          "output_type": "execute_result",
          "data": {
            "text/plain": [
              "14"
            ]
          },
          "metadata": {
            "tags": []
          },
          "execution_count": 85
        }
      ]
    },
    {
      "cell_type": "code",
      "metadata": {
        "colab": {
          "base_uri": "https://localhost:8080/"
        },
        "id": "y1LKoN78Btep",
        "outputId": "431ef18f-2adb-47ea-f8f1-fb8944ce6bc9"
      },
      "source": [
        "#Ejemplo #5: Argumentos de longitud variable\n",
        "\n",
        "def suma(number):\n",
        "   total=0\n",
        "   for i  in number:\n",
        "      total +=i\n",
        "   return total\n",
        "suma([1,3,5,4])"
      ],
      "execution_count": null,
      "outputs": [
        {
          "output_type": "execute_result",
          "data": {
            "text/plain": [
              "13"
            ]
          },
          "metadata": {
            "tags": []
          },
          "execution_count": 111
        }
      ]
    },
    {
      "cell_type": "markdown",
      "metadata": {
        "id": "79N-A6FjDZ2Y"
      },
      "source": [
        "Se realizo la suma de todos los numeros de entrada. Para ello la declaracion de los argumentos de salida seria como una lista \n",
        "\n",
        "la forma de sintaxis anterior es valida, sin embargo, tenemos un solo argumentos que es la lista de numeros \n",
        "\n",
        "si declaramos un argumento con , esto hata que el argumento en guardado como tu manera automatica \n"
      ]
    },
    {
      "cell_type": "code",
      "metadata": {
        "colab": {
          "base_uri": "https://localhost:8080/"
        },
        "id": "tDZ-zRYpD5X9",
        "outputId": "e18a3b7e-18f3-4084-d003-f8b77f507fd2"
      },
      "source": [
        "\n",
        "def suma(*number):\n",
        "  print(type(number))\n",
        "  total=0\n",
        "  for i in number:\n",
        "     total+=i\n",
        "  return total \n",
        "suma(2,3,5,4)"
      ],
      "execution_count": null,
      "outputs": [
        {
          "output_type": "stream",
          "text": [
            "<class 'tuple'>\n"
          ],
          "name": "stdout"
        },
        {
          "output_type": "execute_result",
          "data": {
            "text/plain": [
              "14"
            ]
          },
          "metadata": {
            "tags": []
          },
          "execution_count": 104
        }
      ]
    }
  ]
}