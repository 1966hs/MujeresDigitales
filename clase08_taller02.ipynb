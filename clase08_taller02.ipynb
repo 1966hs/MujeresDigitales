{
  "nbformat": 4,
  "nbformat_minor": 0,
  "metadata": {
    "colab": {
      "name": "clase08_taller02.ipynb",
      "provenance": [],
      "authorship_tag": "ABX9TyMAO/wFsgB0FVJj128eOa/n",
      "include_colab_link": true
    },
    "kernelspec": {
      "name": "python3",
      "display_name": "Python 3"
    },
    "language_info": {
      "name": "python"
    }
  },
  "cells": [
    {
      "cell_type": "markdown",
      "metadata": {
        "id": "view-in-github",
        "colab_type": "text"
      },
      "source": [
        "<a href=\"https://colab.research.google.com/github/1966hs/MujeresDigitales/blob/main/clase08_taller02.ipynb\" target=\"_parent\"><img src=\"https://colab.research.google.com/assets/colab-badge.svg\" alt=\"Open In Colab\"/></a>"
      ]
    },
    {
      "cell_type": "markdown",
      "metadata": {
        "id": "hJb457UlAQk-"
      },
      "source": [
        "**Ejercicio de practica**\n",
        "\n",
        "---\n",
        "\n",
        "Se le pide a la analista realizar una estimacion poblacional a partir de informacion descriptiva relevante sobre la poblacion de los paises en via de desarrollo \n",
        "\n",
        "Para ello de incicio se solicita que se cree un programa que permisa ingresar como prueba 5 paises y su respectiva poblacion e identifcar que pais tiene la mayor cantidad de habitantes \n"
      ]
    },
    {
      "cell_type": "code",
      "metadata": {
        "colab": {
          "base_uri": "https://localhost:8080/"
        },
        "id": "hx2hLTiNA8oS",
        "outputId": "e8668caa-e948-4e21-bedc-9c6ac0816b46"
      },
      "source": [
        "#print(\"ingresa los valores de pais y su habitantes: \")\n",
        "\n",
        "def poblacion():\n",
        "  pais=list()\n",
        "\n",
        "  for x in range(2):\n",
        "   nombre=input(\"Ingrese el pais:\")\n",
        "   cantidad=int(input(\"ingrese la cantidad de habitantes:\"))\n",
        "   pais.append((nombre,cantidad))\n",
        "  return pais\n",
        "\n",
        "#print(\"muestra el pais con el valor:\")\n",
        "\n",
        "def ver(pais):\n",
        "  print(\"habitantes por pais:\")\n",
        "  for x in range(len(pais)):\n",
        "    print(pais[x][0], pais[x][1])\n",
        "\n",
        "def mayor(pais):\n",
        "  p=0 #variable de almacenamiento\n",
        "  for x in range(1,len(pais)):\n",
        "    if pais[x][1]>pais[p][1]: #reemplazo \n",
        "      pos=x\n",
        "    print(\"El pais con la mas alta poblacion es:\", pais [pos][0])\n",
        "\n",
        "pais=poblacion()\n",
        "ver(pais)\n",
        "mayor(pais)"
      ],
      "execution_count": 12,
      "outputs": [
        {
          "output_type": "stream",
          "text": [
            "Ingrese el pais:Colombia\n",
            "ingrese la cantidad de habitantes:350\n",
            "Ingrese el pais:Peru\n",
            "ingrese la cantidad de habitantes:1552\n",
            "habitantes por pais:\n",
            "Colombia 350\n",
            "Peru 1552\n",
            "El pais con la mas alta poblacion es: Peru\n"
          ],
          "name": "stdout"
        }
      ]
    },
    {
      "cell_type": "markdown",
      "metadata": {
        "id": "m4JXNCM7E2uY"
      },
      "source": [
        "**Taller 02**\n",
        "\n",
        "\n",
        "---\n",
        "Se solicita realizar un programa que permita identificar el nivel de cumplimiento del area de ventas de la empresa AVA. Entre los principales requerimientos se encuentran los siguientes: \n",
        "\n",
        "1. Permita ingresar la cantidad de vendedores del area de ventas \n",
        "2. Permita ingresar la puntuacion para cada uno de ellos (escala de 1,10)\n",
        "3. El programa debe permitir identificar el vendedor con peor rendimiento y mejor rendimiento \n",
        "4. Obtener tambien el promedio general del nivel de cumplimiento del area de ventas \n",
        "\n",
        "Nota: Si hay empate en la puntuacion para definir el primer y ultimo puesto, se define por orden alfabetico.\n",
        "\n"
      ]
    },
    {
      "cell_type": "code",
      "metadata": {
        "colab": {
          "base_uri": "https://localhost:8080/"
        },
        "id": "Mul_LKlxGFiV",
        "outputId": "a7ae8e08-53e4-4b98-cbed-582384f15828"
      },
      "source": [
        "se=[1,10,7,9,3,15]\n",
        "#ordenar la lista \n",
        "sorted(se)"
      ],
      "execution_count": 13,
      "outputs": [
        {
          "output_type": "execute_result",
          "data": {
            "text/plain": [
              "[1, 3, 7, 9, 10, 15]"
            ]
          },
          "metadata": {
            "tags": []
          },
          "execution_count": 13
        }
      ]
    },
    {
      "cell_type": "code",
      "metadata": {
        "colab": {
          "base_uri": "https://localhost:8080/"
        },
        "id": "ZJFftw0tGgam",
        "outputId": "745ebcaf-d88f-48e8-ab2d-e6ba1c329034"
      },
      "source": [
        "#ingresar vendedores \n",
        "def vendedores():\n",
        "  area=list()\n",
        "  cant=int(input(\"Ingrese la cantidad de vendores:\")) #2 porfa\n",
        "  \n",
        "  for x in range(2): #profe le puse un rango de 2 por que no me toma cant el for para poder ir haciendo uno por uno pero asi funciona\n",
        "    cantidad=input(\"Ingrese el nombre del vendedor :\")\n",
        "    puntuacion=int(input(\"Ingrese la puntuacion del vendedor del 1 al 10:\"))\n",
        "    area.append((cantidad,puntuacion))\n",
        "  return area \n",
        "\n",
        "# ahora identificar el peor rendimiento \n",
        "def rendimiento(area):\n",
        " p=0\n",
        " for x in range(1,len(area)):\n",
        "    if area[x][1]>area[p][1]: \n",
        "     print(\"El vendedor con la puntuacion mas alta es:\", area [x][0])\n",
        "    else:\n",
        "      print(\"El vendedor con la puntuacion mas baja es:\", area [x][0]) #profe aca no me muestra el de menor rendimiento pero si el se mayor\n",
        "\n",
        "#promedio general del nivel del cumplimiento de ventas\n",
        "def ventas(area):\n",
        "  p=0\n",
        "  prom=area[x][1]+area[p][1]\n",
        "  prom=prom/2\n",
        "  print(\"El promedio general de las ventas es:\", prom)\n",
        "\n",
        "\n",
        "#empate\n",
        "def empate(area):\n",
        "  p=0\n",
        "  if area[x][1]==area[p][1]: \n",
        "    sorted(area)\n",
        "\n",
        "\n",
        "\n",
        "\n",
        "area=vendedores()\n",
        "rendimiento(area)\n",
        "ventas(area)\n",
        "empate(area)\n"
      ],
      "execution_count": 85,
      "outputs": [
        {
          "output_type": "stream",
          "text": [
            "Ingrese la cantidad de vendores:2\n",
            "Ingrese el nombre del vendedor :Luis\n",
            "Ingrese la puntuacion del vendedor del 1 al 10:2\n",
            "Ingrese el nombre del vendedor :Pepe\n",
            "Ingrese la puntuacion del vendedor del 1 al 10:5\n",
            "El vendedor con la puntuacion mas alta es: Pepe\n",
            "El promedio general de las ventas es: 3.5\n"
          ],
          "name": "stdout"
        }
      ]
    }
  ]
}