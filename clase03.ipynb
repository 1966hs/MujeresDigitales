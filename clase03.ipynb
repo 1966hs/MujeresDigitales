{
  "nbformat": 4,
  "nbformat_minor": 0,
  "metadata": {
    "colab": {
      "name": "clase03.ipynb",
      "provenance": [],
      "authorship_tag": "ABX9TyMUwIi5/pqFLNbZVWy0D/mo",
      "include_colab_link": true
    },
    "kernelspec": {
      "name": "python3",
      "display_name": "Python 3"
    },
    "language_info": {
      "name": "python"
    }
  },
  "cells": [
    {
      "cell_type": "markdown",
      "metadata": {
        "id": "view-in-github",
        "colab_type": "text"
      },
      "source": [
        "<a href=\"https://colab.research.google.com/github/1966hs/MujeresDigitales/blob/main/clase03.ipynb\" target=\"_parent\"><img src=\"https://colab.research.google.com/assets/colab-badge.svg\" alt=\"Open In Colab\"/></a>"
      ]
    },
    {
      "cell_type": "code",
      "metadata": {
        "id": "JBp9YFy94o2Q"
      },
      "source": [
        ""
      ],
      "execution_count": null,
      "outputs": []
    },
    {
      "cell_type": "markdown",
      "metadata": {
        "id": "stkm4Ycr4qX6"
      },
      "source": [
        "***Estructura de Condicionales ***\n",
        "\n",
        "---\n",
        "\n",
        "Al momento de construir una instruccion de tipo condicional se debera comprender que dichas instrucciones estan diseñadas para ayudar con la toma de desiciones \n",
        "\n",
        "\n",
        "**Si** Pedro va a la tienda por la izquerda llegará más rápido, **sino** se demorará más \n",
        "\n",
        "Existen varios tipos de instrucciones, algunos pueden ser simples y otros multiples.\n",
        "Sin embargo, solo se generan dos resultados.\n",
        "1. True \n",
        "2. False \n",
        "\n"
      ]
    },
    {
      "cell_type": "markdown",
      "metadata": {
        "id": "VZ8pDta16Nqb"
      },
      "source": [
        "Para aplicar estos condicionales debemos recordar los comandos de:\n",
        "\n",
        "\n",
        "1. Igualdad (==) // 3==5 // False\n",
        "2.  Diferencia (!=) // rosado!=verde // True\n",
        "3. Menor que (<) // 12<11// False \n",
        "4. Mayor que (>) // 1>1.5//True \n",
        "5. Mayor o igual que (>=) //30>=30// True\n",
        "6. Menor o igual que (<=) //56<=89// False \n",
        "\n",
        "En condiciones multiples, podemos enlazar los operadores logicos: \n",
        "\n",
        "1. y (and) los dos sean verdaderos \n",
        "2. o (o) algunos de los dos sean verdaderos\n",
        "3. no (not) \n",
        "\n",
        "Para aplicar los operadores matematicos y logicos tenemos en cuenta lo que llamamos **Diagrama de flujos**, esto nos permite mayor organizacion de las ideas para la toma de decisiones \n",
        "\n"
      ]
    },
    {
      "cell_type": "markdown",
      "metadata": {
        "id": "PYBMcQxy8O0J"
      },
      "source": [
        ""
      ]
    }
  ]
}