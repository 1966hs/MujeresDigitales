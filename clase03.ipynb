{
  "nbformat": 4,
  "nbformat_minor": 0,
  "metadata": {
    "colab": {
      "name": "clase03.ipynb",
      "provenance": [],
      "authorship_tag": "ABX9TyNZXtPppHL70Valq65CirbX",
      "include_colab_link": true
    },
    "kernelspec": {
      "name": "python3",
      "display_name": "Python 3"
    },
    "language_info": {
      "name": "python"
    }
  },
  "cells": [
    {
      "cell_type": "markdown",
      "metadata": {
        "id": "view-in-github",
        "colab_type": "text"
      },
      "source": [
        "<a href=\"https://colab.research.google.com/github/1966hs/MujeresDigitales/blob/main/clase03.ipynb\" target=\"_parent\"><img src=\"https://colab.research.google.com/assets/colab-badge.svg\" alt=\"Open In Colab\"/></a>"
      ]
    },
    {
      "cell_type": "code",
      "metadata": {
        "id": "JBp9YFy94o2Q"
      },
      "source": [
        ""
      ],
      "execution_count": null,
      "outputs": []
    },
    {
      "cell_type": "markdown",
      "metadata": {
        "id": "stkm4Ycr4qX6"
      },
      "source": [
        "***Estructura de Condicionales ***\n",
        "\n",
        "---\n",
        "\n",
        "Al momento de construir una instruccion de tipo condicional se debera comprender que dichas instrucciones estan diseñadas para ayudar con la toma de desiciones \n",
        "\n",
        "\n",
        "**Si** Pedro va a la tienda por la izquerda llegará más rápido, **sino** se demorará más \n",
        "\n",
        "Existen varios tipos de instrucciones, algunos pueden ser simples y otros multiples.\n",
        "Sin embargo, solo se generan dos resultados.\n",
        "1. True \n",
        "2. False \n",
        "\n"
      ]
    },
    {
      "cell_type": "markdown",
      "metadata": {
        "id": "VZ8pDta16Nqb"
      },
      "source": [
        "Para aplicar estos condicionales debemos recordar los comandos de:\n",
        "\n",
        "\n",
        "1. Igualdad (==) // 3==5 // False\n",
        "2.  Diferencia (!=) // rosado!=verde // True\n",
        "3. Menor que (<) // 12<11// False \n",
        "4. Mayor que (>) // 1>1.5//True \n",
        "5. Mayor o igual que (>=) //30>=30// True\n",
        "6. Menor o igual que (<=) //56<=89// False \n",
        "\n",
        "En condiciones multiples, podemos enlazar los operadores logicos: \n",
        "\n",
        "1. y (and) los dos sean verdaderos \n",
        "2. o (o) algunos de los dos sean verdaderos\n",
        "3. no (not) \n",
        "\n",
        "Para aplicar los operadores matematicos y logicos tenemos en cuenta lo que llamamos **Diagrama de flujos**, esto nos permite mayor organizacion de las ideas para la toma de decisiones \n",
        "\n"
      ]
    },
    {
      "cell_type": "markdown",
      "metadata": {
        "id": "PYBMcQxy8O0J"
      },
      "source": [
        "***El comando IF ***\n",
        "\n",
        "\n",
        "---\n",
        "Este comando permite evaluar si una sentencia es verdadera o falsa, es decir, se ejecuta una accion establecidad mediante un codigo de instruccion o varias instrucciones inmediatamente en las lineas siguientes a dicha condicion \n",
        "\n"
      ]
    },
    {
      "cell_type": "code",
      "metadata": {
        "colab": {
          "base_uri": "https://localhost:8080/"
        },
        "id": "wOfriibgBiBM",
        "outputId": "d995f006-0ebd-4b65-ef2b-30da4d60ece7"
      },
      "source": [
        "num =input(\"Escribir un numero cualquiera:\")\n",
        "if num == 200:\n",
        "    print(\"Escribiste el  200\")\n",
        "\n"
      ],
      "execution_count": 16,
      "outputs": [
        {
          "output_type": "stream",
          "text": [
            "Escribir un numero cualquiera:200\n"
          ],
          "name": "stdout"
        }
      ]
    },
    {
      "cell_type": "markdown",
      "metadata": {
        "id": "yLH3tw-cCSUZ"
      },
      "source": [
        "El comando ELSE\n",
        "\n",
        "\n",
        "---\n",
        " \" Si no \". Este comando permite relacionar las acciones que deberia realizar en caso que la condicion sea falsa \n",
        "\n",
        "\n"
      ]
    },
    {
      "cell_type": "code",
      "metadata": {
        "colab": {
          "base_uri": "https://localhost:8080/"
        },
        "id": "NvvPVoG1C3eA",
        "outputId": "2dbc505b-28b9-4fd0-8245-d2c06f32a3d3"
      },
      "source": [
        "num =int(input(\"Escribir un numero cualquiera:\"))\n",
        "if num == 200:\n",
        "  print(\"Escribiste el 200 \")\n",
        "else: \n",
        "  print(\"El numero escrito No es 200\")"
      ],
      "execution_count": 18,
      "outputs": [
        {
          "output_type": "stream",
          "text": [
            "Escribir un numero cualquiera:110\n",
            "El numero escrito No es 200\n"
          ],
          "name": "stdout"
        }
      ]
    },
    {
      "cell_type": "markdown",
      "metadata": {
        "id": "OjWry-cpD9HY"
      },
      "source": [
        "El comando ELIF = ELSE IF \n",
        "\n",
        "\n",
        "Tiene formato de código\n",
        "\n",
        "\n",
        "\n",
        "\n",
        "\n",
        "---\n",
        "\n",
        "Significa \" Sino, si \" y permite concatenar condiciones "
      ]
    },
    {
      "cell_type": "code",
      "metadata": {
        "colab": {
          "base_uri": "https://localhost:8080/"
        },
        "id": "2gV1jnFGEIUD",
        "outputId": "cc68f2e9-b4ae-4565-d947-92a115c4fd8d"
      },
      "source": [
        "num =int(input(\"Escribir un numero cualquiera:\"))\n",
        "if num == 200:\n",
        "  print(\"Escribiste el 200 \")\n",
        "elif num > 200:\n",
        "  print(\"El numero escrito es Mayor a 200\")\n",
        "else: \n",
        "  print(\"El numero escrito No es 200\")"
      ],
      "execution_count": 19,
      "outputs": [
        {
          "output_type": "stream",
          "text": [
            "Escribir un numero cualquiera:250\n",
            "El numero escrito es Mayor a 200\n"
          ],
          "name": "stdout"
        }
      ]
    },
    {
      "cell_type": "markdown",
      "metadata": {
        "id": "57wW5pRYHrd1"
      },
      "source": [
        "Condiciones Multiples \n",
        "\n",
        "\n",
        "---\n",
        "Cuando se presentan situaciones con mas de una condicion que dependen unas de otras, estas se pueden tratatr mediante el manejo de varias sentencias o coamndos if, o mendiante el manejo adecuado del comando elif, sin embargo en muchos casos cuando hay multiples condiciones, la promacion necesita mayor cantidad de lineas de cogido \n",
        "\n",
        "En esos casos, es necesario el uso de operadores logicos como el and y el or. \n",
        "\n"
      ]
    },
    {
      "cell_type": "code",
      "metadata": {
        "colab": {
          "base_uri": "https://localhost:8080/"
        },
        "id": "buTKR9bNId-M",
        "outputId": "452b63d8-58b8-4386-c22d-2cfdb390771b"
      },
      "source": [
        "x= int(input(\"valor del numero:\")) #condicional anidada\n",
        "if 0<x:\n",
        " if x<10:\n",
        "  print(\"x es un numero positivo\")"
      ],
      "execution_count": 21,
      "outputs": [
        {
          "output_type": "stream",
          "text": [
            "valor del numero:3\n",
            "x es un numero positivo\n"
          ],
          "name": "stdout"
        }
      ]
    },
    {
      "cell_type": "markdown",
      "metadata": {
        "id": "RxKgIsMOIjDJ"
      },
      "source": [
        "if anidados es cuando los codigos empiexan con if  y sigue otro if como el ejemplo de arriba \n",
        "digamos si ponemos 15 no lo evalua pero si muestra el valor y ya solo lo registra ej: valor15\n",
        "\n",
        "\n",
        "\n"
      ]
    },
    {
      "cell_type": "code",
      "metadata": {
        "colab": {
          "base_uri": "https://localhost:8080/"
        },
        "id": "gJxetQyhKAYI",
        "outputId": "2aabf0ff-74fd-49bb-dcc4-1d7c066bb9e4"
      },
      "source": [
        "x = int(input(\"valor de numero\")) #condicional booleana \n",
        "if 0<x and x<10:\n",
        "  print(\"x es un numero de un solo digito \")"
      ],
      "execution_count": 22,
      "outputs": [
        {
          "output_type": "stream",
          "text": [
            "valor de numero5\n",
            "x es un numerp de un solo digito \n"
          ],
          "name": "stdout"
        }
      ]
    },
    {
      "cell_type": "code",
      "metadata": {
        "id": "iElYlri_KZB9"
      },
      "source": [
        "x = int(input(\"valor de numero\")) \n",
        "if 0<x<10:\n",
        "  print(\"x es un numero de un solo digito \")"
      ],
      "execution_count": null,
      "outputs": []
    }
  ]
}