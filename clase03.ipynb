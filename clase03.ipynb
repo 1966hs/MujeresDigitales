{
  "nbformat": 4,
  "nbformat_minor": 0,
  "metadata": {
    "colab": {
      "name": "clase03.ipynb",
      "provenance": [],
      "authorship_tag": "ABX9TyMX3uj3CcfmxNwapeaAQgu2",
      "include_colab_link": true
    },
    "kernelspec": {
      "name": "python3",
      "display_name": "Python 3"
    },
    "language_info": {
      "name": "python"
    }
  },
  "cells": [
    {
      "cell_type": "markdown",
      "metadata": {
        "id": "view-in-github",
        "colab_type": "text"
      },
      "source": [
        "<a href=\"https://colab.research.google.com/github/1966hs/MujeresDigitales/blob/main/clase03.ipynb\" target=\"_parent\"><img src=\"https://colab.research.google.com/assets/colab-badge.svg\" alt=\"Open In Colab\"/></a>"
      ]
    },
    {
      "cell_type": "markdown",
      "metadata": {
        "id": "stkm4Ycr4qX6"
      },
      "source": [
        "***Estructura de Condicionales ***\n",
        "\n",
        "---\n",
        "\n",
        "Al momento de construir una instruccion de tipo condicional se debera comprender que dichas instrucciones estan diseñadas para ayudar con la toma de desiciones \n",
        "\n",
        "\n",
        "**Si** Pedro va a la tienda por la izquerda llegará más rápido, **sino** se demorará más \n",
        "\n",
        "Existen varios tipos de instrucciones, algunos pueden ser simples y otros multiples.\n",
        "Sin embargo, solo se generan dos resultados.\n",
        "1. True \n",
        "2. False \n",
        "\n"
      ]
    },
    {
      "cell_type": "markdown",
      "metadata": {
        "id": "VZ8pDta16Nqb"
      },
      "source": [
        "Para aplicar estos condicionales debemos recordar los comandos de:\n",
        "\n",
        "\n",
        "1. Igualdad (==) // 3==5 // False\n",
        "2.  Diferencia (!=) // rosado!=verde // True\n",
        "3. Menor que (<) // 12<11// False \n",
        "4. Mayor que (>) // 1>1.5//True \n",
        "5. Mayor o igual que (>=) //30>=30// True\n",
        "6. Menor o igual que (<=) //56<=89// False \n",
        "\n",
        "En condiciones multiples, podemos enlazar los operadores logicos: \n",
        "\n",
        "1. y (and) los dos sean verdaderos \n",
        "2. o (o) algunos de los dos sean verdaderos\n",
        "3. no (not) \n",
        "\n",
        "Para aplicar los operadores matematicos y logicos tenemos en cuenta lo que llamamos **Diagrama de flujos**, esto nos permite mayor organizacion de las ideas para la toma de decisiones \n",
        "\n"
      ]
    },
    {
      "cell_type": "markdown",
      "metadata": {
        "id": "PYBMcQxy8O0J"
      },
      "source": [
        "***El comando IF ***\n",
        "\n",
        "\n",
        "---\n",
        "Este comando permite evaluar si una sentencia es verdadera o falsa, es decir, se ejecuta una accion establecidad mediante un codigo de instruccion o varias instrucciones inmediatamente en las lineas siguientes a dicha condicion \n",
        "\n"
      ]
    },
    {
      "cell_type": "code",
      "metadata": {
        "colab": {
          "base_uri": "https://localhost:8080/"
        },
        "id": "wOfriibgBiBM",
        "outputId": "d995f006-0ebd-4b65-ef2b-30da4d60ece7"
      },
      "source": [
        "num =input(\"Escribir un numero cualquiera:\")\n",
        "if num == 200:\n",
        "    print(\"Escribiste el  200\")\n",
        "\n"
      ],
      "execution_count": null,
      "outputs": [
        {
          "output_type": "stream",
          "text": [
            "Escribir un numero cualquiera:200\n"
          ],
          "name": "stdout"
        }
      ]
    },
    {
      "cell_type": "markdown",
      "metadata": {
        "id": "yLH3tw-cCSUZ"
      },
      "source": [
        "El comando ELSE\n",
        "\n",
        "\n",
        "---\n",
        " \" Si no \". Este comando permite relacionar las acciones que deberia realizar en caso que la condicion sea falsa \n",
        "\n",
        "\n"
      ]
    },
    {
      "cell_type": "code",
      "metadata": {
        "colab": {
          "base_uri": "https://localhost:8080/"
        },
        "id": "NvvPVoG1C3eA",
        "outputId": "2dbc505b-28b9-4fd0-8245-d2c06f32a3d3"
      },
      "source": [
        "num =int(input(\"Escribir un numero cualquiera:\"))\n",
        "if num == 200:\n",
        "  print(\"Escribiste el 200 \")\n",
        "else: \n",
        "  print(\"El numero escrito No es 200\")"
      ],
      "execution_count": null,
      "outputs": [
        {
          "output_type": "stream",
          "text": [
            "Escribir un numero cualquiera:110\n",
            "El numero escrito No es 200\n"
          ],
          "name": "stdout"
        }
      ]
    },
    {
      "cell_type": "markdown",
      "metadata": {
        "id": "OjWry-cpD9HY"
      },
      "source": [
        "El comando ELIF = ELSE IF \n",
        "\n",
        "\n",
        "Tiene formato de código\n",
        "\n",
        "\n",
        "\n",
        "\n",
        "\n",
        "---\n",
        "\n",
        "Significa \" Sino, si \" y permite concatenar condiciones "
      ]
    },
    {
      "cell_type": "code",
      "metadata": {
        "colab": {
          "base_uri": "https://localhost:8080/"
        },
        "id": "2gV1jnFGEIUD",
        "outputId": "cc68f2e9-b4ae-4565-d947-92a115c4fd8d"
      },
      "source": [
        "num =int(input(\"Escribir un numero cualquiera:\"))\n",
        "if num == 200:\n",
        "  print(\"Escribiste el 200 \")\n",
        "elif num > 200:\n",
        "  print(\"El numero escrito es Mayor a 200\")\n",
        "else: \n",
        "  print(\"El numero escrito No es 200\")"
      ],
      "execution_count": null,
      "outputs": [
        {
          "output_type": "stream",
          "text": [
            "Escribir un numero cualquiera:250\n",
            "El numero escrito es Mayor a 200\n"
          ],
          "name": "stdout"
        }
      ]
    },
    {
      "cell_type": "markdown",
      "metadata": {
        "id": "57wW5pRYHrd1"
      },
      "source": [
        "Condiciones Multiples \n",
        "\n",
        "\n",
        "---\n",
        "Cuando se presentan situaciones con mas de una condicion que dependen unas de otras, estas se pueden tratatr mediante el manejo de varias sentencias o coamndos if, o mendiante el manejo adecuado del comando elif, sin embargo en muchos casos cuando hay multiples condiciones, la promacion necesita mayor cantidad de lineas de cogido \n",
        "\n",
        "En esos casos, es necesario el uso de operadores logicos como el and y el or. \n",
        "\n"
      ]
    },
    {
      "cell_type": "code",
      "metadata": {
        "colab": {
          "base_uri": "https://localhost:8080/"
        },
        "id": "buTKR9bNId-M",
        "outputId": "452b63d8-58b8-4386-c22d-2cfdb390771b"
      },
      "source": [
        "x= int(input(\"valor del numero:\")) #condicional anidada\n",
        "if 0<x:\n",
        " if x<10:\n",
        "  print(\"x es un numero positivo\")"
      ],
      "execution_count": null,
      "outputs": [
        {
          "output_type": "stream",
          "text": [
            "valor del numero:3\n",
            "x es un numero positivo\n"
          ],
          "name": "stdout"
        }
      ]
    },
    {
      "cell_type": "markdown",
      "metadata": {
        "id": "RxKgIsMOIjDJ"
      },
      "source": [
        "if anidados es cuando los codigos empiexan con if  y sigue otro if como el ejemplo de arriba \n",
        "digamos si ponemos 15 no lo evalua pero si muestra el valor y ya solo lo registra ej: valor15\n",
        "\n",
        "\n",
        "\n"
      ]
    },
    {
      "cell_type": "code",
      "metadata": {
        "colab": {
          "base_uri": "https://localhost:8080/"
        },
        "id": "gJxetQyhKAYI",
        "outputId": "2aabf0ff-74fd-49bb-dcc4-1d7c066bb9e4"
      },
      "source": [
        "x = int(input(\"valor de numero\")) #condicional booleana \n",
        "if 0<x and x<10:\n",
        "  print(\"x es un numero de un solo digito \")"
      ],
      "execution_count": null,
      "outputs": [
        {
          "output_type": "stream",
          "text": [
            "valor de numero5\n",
            "x es un numerp de un solo digito \n"
          ],
          "name": "stdout"
        }
      ]
    },
    {
      "cell_type": "code",
      "metadata": {
        "id": "iElYlri_KZB9"
      },
      "source": [
        "x = int(input(\"valor de numero\")) \n",
        "if 0<x<10:\n",
        "  print(\"x es un numero de un solo digito \")"
      ],
      "execution_count": null,
      "outputs": []
    },
    {
      "cell_type": "markdown",
      "metadata": {
        "id": "MXu5FEx4NEyd"
      },
      "source": [
        "## **Estructuras de control iterativas**\n",
        "\n",
        "\n",
        "---\n",
        "Las variables son claves en las estructuras de control iterativas, puesto que son el medio entra la iteracion y la condicion que se esta ejecutando.\n",
        "\n",
        "**¿Qué es iteración?**\n",
        "iteracion es la consecucion del codigo tantas veces requiera hasta que se cumplan las condiciones establecidas \n",
        "\n",
        "*Banderas*\n",
        "Son las variables que toamn un valor preferiblemente binario, boolenao e indican un estado.\n",
        "\n",
        "\n"
      ]
    },
    {
      "cell_type": "code",
      "metadata": {
        "colab": {
          "base_uri": "https://localhost:8080/"
        },
        "id": "vTVxNVRFNzbb",
        "outputId": "9d51b443-0aa4-417b-f8b3-1f732202af23"
      },
      "source": [
        "suma=False \n",
        "a=3\n",
        "b=10\n",
        "if (suma==False):\n",
        "  total=a+b\n",
        "  suma=True\n",
        "\n",
        "if (suma==True):\n",
        "  print(\"el valor total de la suma es:\", total)"
      ],
      "execution_count": null,
      "outputs": [
        {
          "output_type": "stream",
          "text": [
            "el valor total de la suma es: 13\n"
          ],
          "name": "stdout"
        }
      ]
    },
    {
      "cell_type": "markdown",
      "metadata": {
        "id": "7GOM50x8Ppwg"
      },
      "source": [
        "La variable suma en este caso de tipo booleano y su funcion es indicar cuando se ejecuto la suma. Por lo tanto tiene un estado inicial \"False\", pero luego de ejecutar la suma, toma el valor de True \n",
        "\n",
        "Cuando pasa esto escuchamos la frase \"la bandera de levantó\"  Esto quiere decir que una o otra accion hizo que el estado de la bandera (suma) cambiará\n",
        "\n",
        "Ejemplo cualitativo: **CASE CONTAGIO**"
      ]
    },
    {
      "cell_type": "code",
      "metadata": {
        "colab": {
          "base_uri": "https://localhost:8080/"
        },
        "id": "f0QkGz5XQ5R-",
        "outputId": "d69e21c4-b758-4294-ffd2-b1dc32f71365"
      },
      "source": [
        "CONTAGIO=\"No\"\n",
        "PACIENTE=\"HEIDY\"\n",
        "if (CONTAGIO==\"No\"):\n",
        "  print(\"La Paciente\", PACIENTE, \"No se Ha realizado la Prueba para validar su estado, por favor realizar la prueba en el centro de salud mas cercano \")\n",
        "  print(\"Aplicarse la prueba\")\n",
        "  CONTAGIO=\"Pendiente\"\n",
        "\n",
        "if (CONTAGIO==\"Pendiente\"):\n",
        "  print(PACIENTE, \"Por favor revisar el correo donde se le adjunto el resultado de la prueba\")\n",
        "  CONTAGIO=\"Si\"\n",
        "\n",
        "if (CONTAGIO==\"Si\"):\n",
        "   print(PACIENTE, \"Dado que es positivo el resultado de su prueba, mantener una distancia de las personas por lo menos 15 dias contando\") \n",
        "\n",
        "  \n"
      ],
      "execution_count": null,
      "outputs": [
        {
          "output_type": "stream",
          "text": [
            "La Paciente HEIDY No se Ha realizado la Prueba para validar su estado, por favor realizar la prueba en el centro de salud mas cercano \n",
            "Aplicarse la prueba\n",
            "HEIDY Por favor revisar el correo donde se le adjunto el resultado de la prueba\n",
            "HEIDY Dado que es positivo el resultado de su prueba, mantener una distancia de las personas por lo menos 15 dias contando\n"
          ],
          "name": "stdout"
        }
      ]
    },
    {
      "cell_type": "code",
      "metadata": {
        "colab": {
          "base_uri": "https://localhost:8080/"
        },
        "id": "JVyxdJqKSuE0",
        "outputId": "b4e57e89-24ee-407c-b8e9-bbbbfd03df10"
      },
      "source": [
        "PACIENTE=input((\"Ingrese el nombre del paciente\"))\n",
        "CONTAGIO=input((\"¿Te has realizado la prueba de contagio?\"))\n",
        "\n",
        "if (CONTAGIO==\"No\"):\n",
        "  print(\"La Paciente\", PACIENTE, \"No se Ha realizado la Prueba para validar su estado, por favor realizar la prueba en el centro de salud mas cercano \")\n",
        "  print(\"Aplicarse la prueba\")\n",
        "  CONTAGIO=\"Pendiente\"\n",
        "\n",
        "if (CONTAGIO==\"Pendiente\"):\n",
        "  print(PACIENTE, \"Por favor revisar el correo donde se le adjunto el resultado de la prueba\")\n",
        "  CONTAGIO=\"Si\"\n",
        "\n",
        "if (CONTAGIO==\"Si\"):\n",
        "   print(PACIENTE, \"Dado que es positivo el resultado de su prueba, mantener una distancia de las personas por lo menos 15 dias contando\") \n",
        "\n",
        "  \n"
      ],
      "execution_count": null,
      "outputs": [
        {
          "output_type": "stream",
          "text": [
            "Ingrese el nombre del pacienteHeidy \n",
            "¿Te has realizado la prueba de contagio?No\n",
            "La Paciente Heidy  No se Ha realizado la Prueba para validar su estado, por favor realizar la prueba en el centro de salud mas cercano \n",
            "Aplicarse la prueba\n",
            "Heidy  Por favor revisar el correo donde se le adjunto el resultado de la prueba\n",
            "Heidy  Dado que es positivo el resultado de su prueba, mantener una distancia de las personas por lo menos 15 dias contando\n"
          ],
          "name": "stdout"
        }
      ]
    }
  ]
}