{
  "nbformat": 4,
  "nbformat_minor": 0,
  "metadata": {
    "colab": {
      "name": "TareaClase01.ipynb",
      "provenance": [],
      "authorship_tag": "ABX9TyNCJG8SRxThEPIBySqh+m1A",
      "include_colab_link": true
    },
    "kernelspec": {
      "name": "python3",
      "display_name": "Python 3"
    },
    "language_info": {
      "name": "python"
    }
  },
  "cells": [
    {
      "cell_type": "markdown",
      "metadata": {
        "id": "view-in-github",
        "colab_type": "text"
      },
      "source": [
        "<a href=\"https://colab.research.google.com/github/1966hs/MujeresDigitales/blob/main/TareaClase01.ipynb\" target=\"_parent\"><img src=\"https://colab.research.google.com/assets/colab-badge.svg\" alt=\"Open In Colab\"/></a>"
      ]
    },
    {
      "cell_type": "markdown",
      "metadata": {
        "id": "tqt5aEh9IUuR"
      },
      "source": [
        "**Tipo Entero:**"
      ]
    },
    {
      "cell_type": "code",
      "metadata": {
        "colab": {
          "base_uri": "https://localhost:8080/"
        },
        "id": "jX1KcgfwIThD",
        "outputId": "9cc90485-3cac-4589-c8b2-580502fa0e5a"
      },
      "source": [
        "x=int(8)\n",
        "c=int(7)\n",
        "print(x*c)"
      ],
      "execution_count": 1,
      "outputs": [
        {
          "output_type": "stream",
          "text": [
            "56\n"
          ],
          "name": "stdout"
        }
      ]
    },
    {
      "cell_type": "code",
      "metadata": {
        "colab": {
          "base_uri": "https://localhost:8080/"
        },
        "id": "mSlDhlOUI1kx",
        "outputId": "b1e7249f-41b0-4ee2-d32b-0a414d17e533"
      },
      "source": [
        "a=int(12)\n",
        "b=int(23)\n",
        "print(a+b)"
      ],
      "execution_count": 2,
      "outputs": [
        {
          "output_type": "stream",
          "text": [
            "35\n"
          ],
          "name": "stdout"
        }
      ]
    },
    {
      "cell_type": "markdown",
      "metadata": {
        "id": "-QQgDAmkI-Mj"
      },
      "source": [
        "**Tipo Flotante:**\n"
      ]
    },
    {
      "cell_type": "code",
      "metadata": {
        "colab": {
          "base_uri": "https://localhost:8080/"
        },
        "id": "GTHI1YICJBjA",
        "outputId": "ea171731-58db-4aa2-d4c8-2f3f0c7f0872"
      },
      "source": [
        "a=float(7.99)\n",
        "print(\"¿Cual es el valor de a?\", a)\n"
      ],
      "execution_count": 3,
      "outputs": [
        {
          "output_type": "stream",
          "text": [
            "¿Cual es el valor de a? 7.99\n"
          ],
          "name": "stdout"
        }
      ]
    },
    {
      "cell_type": "code",
      "metadata": {
        "colab": {
          "base_uri": "https://localhost:8080/"
        },
        "id": "BxJgkFM2JPO8",
        "outputId": "224caf85-0aed-4a3d-b349-4e5153198192"
      },
      "source": [
        "b=float(12.44)\n",
        "c=float(67.9)\n",
        "print(a+b)"
      ],
      "execution_count": 4,
      "outputs": [
        {
          "output_type": "stream",
          "text": [
            "20.43\n"
          ],
          "name": "stdout"
        }
      ]
    },
    {
      "cell_type": "markdown",
      "metadata": {
        "id": "MV9I4v0WJcIf"
      },
      "source": [
        "**Tipo Cadena:**"
      ]
    },
    {
      "cell_type": "code",
      "metadata": {
        "colab": {
          "base_uri": "https://localhost:8080/"
        },
        "id": "0fS1rYRsJf-m",
        "outputId": "a3df9406-f2be-497f-d15e-e5e7ba4295c8"
      },
      "source": [
        "nombre=\"Heidy\"\n",
        "print(nombre)"
      ],
      "execution_count": 6,
      "outputs": [
        {
          "output_type": "stream",
          "text": [
            "Heidy\n"
          ],
          "name": "stdout"
        }
      ]
    },
    {
      "cell_type": "code",
      "metadata": {
        "colab": {
          "base_uri": "https://localhost:8080/"
        },
        "id": "haW4_E8mJoQ8",
        "outputId": "31184ebe-9e7c-4344-ea14-1e527a7f1a6a"
      },
      "source": [
        "apellido=\"Vanegas\"\n",
        "print(apellido)"
      ],
      "execution_count": 8,
      "outputs": [
        {
          "output_type": "stream",
          "text": [
            "Vanegas\n"
          ],
          "name": "stdout"
        }
      ]
    },
    {
      "cell_type": "markdown",
      "metadata": {
        "id": "RsGQOiuFJ2Ql"
      },
      "source": [
        "**Tipo Booleano:**"
      ]
    },
    {
      "cell_type": "code",
      "metadata": {
        "colab": {
          "base_uri": "https://localhost:8080/"
        },
        "id": "o5XlKQ4PKUN1",
        "outputId": "d0410597-31a2-4f91-baf1-5cac65bc45e1"
      },
      "source": [
        "si=True \n",
        "print(si, type(si))"
      ],
      "execution_count": 9,
      "outputs": [
        {
          "output_type": "stream",
          "text": [
            "True <class 'bool'>\n"
          ],
          "name": "stdout"
        }
      ]
    },
    {
      "cell_type": "code",
      "metadata": {
        "colab": {
          "base_uri": "https://localhost:8080/"
        },
        "id": "0gPQWRDUKokr",
        "outputId": "0f2f11d4-9657-4c41-b436-b8ccc29105a7"
      },
      "source": [
        "no=False\n",
        "print(no, type(no))"
      ],
      "execution_count": 11,
      "outputs": [
        {
          "output_type": "stream",
          "text": [
            "False <class 'bool'>\n"
          ],
          "name": "stdout"
        }
      ]
    },
    {
      "cell_type": "markdown",
      "metadata": {
        "id": "vbpYrgl5K6wj"
      },
      "source": [
        "**Colecciones:**"
      ]
    },
    {
      "cell_type": "markdown",
      "metadata": {
        "id": "SGtyTRHyK-FL"
      },
      "source": [
        "**Listas:**"
      ]
    },
    {
      "cell_type": "code",
      "metadata": {
        "colab": {
          "base_uri": "https://localhost:8080/"
        },
        "id": "tYTVrZIgLB7h",
        "outputId": "65d8f60a-9584-4e20-864d-63af7c5bbbda"
      },
      "source": [
        "colores=\"Rojo\", \"Amarillo\", \"Verde\",\"Azul\"\n",
        "print(colores)"
      ],
      "execution_count": 12,
      "outputs": [
        {
          "output_type": "stream",
          "text": [
            "('Rojo', 'Amarillo', 'Verde', 'Azul')\n"
          ],
          "name": "stdout"
        }
      ]
    },
    {
      "cell_type": "code",
      "metadata": {
        "colab": {
          "base_uri": "https://localhost:8080/"
        },
        "id": "Gx_leFtTLbX1",
        "outputId": "e757b74a-9c9c-449c-c3dc-1f8b0b55d2eb"
      },
      "source": [
        "genero=\"Femenino\",\"Masculino\",\"No binario\",\"Prefiero no decir\",\"Otros\"\n",
        "print(genero)"
      ],
      "execution_count": 13,
      "outputs": [
        {
          "output_type": "stream",
          "text": [
            "('Femenino', 'Masculino', 'No binario', 'Prefiero no decir', 'Otros')\n"
          ],
          "name": "stdout"
        }
      ]
    },
    {
      "cell_type": "markdown",
      "metadata": {
        "id": "RHlDKSjoLyGh"
      },
      "source": [
        "**Conjuntos:**"
      ]
    }
  ]
}