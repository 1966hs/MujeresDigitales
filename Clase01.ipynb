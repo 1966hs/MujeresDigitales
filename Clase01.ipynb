{
  "nbformat": 4,
  "nbformat_minor": 0,
  "metadata": {
    "colab": {
      "name": "Clase01.ipynb",
      "provenance": [],
      "authorship_tag": "ABX9TyPv1JX4i+inrkYnM1cdM3fc",
      "include_colab_link": true
    },
    "kernelspec": {
      "name": "python3",
      "display_name": "Python 3"
    },
    "language_info": {
      "name": "python"
    }
  },
  "cells": [
    {
      "cell_type": "markdown",
      "metadata": {
        "id": "view-in-github",
        "colab_type": "text"
      },
      "source": [
        "<a href=\"https://colab.research.google.com/github/1966hs/MujeresDigitales/blob/main/Clase01.ipynb\" target=\"_parent\"><img src=\"https://colab.research.google.com/assets/colab-badge.svg\" alt=\"Open In Colab\"/></a>"
      ]
    },
    {
      "cell_type": "markdown",
      "metadata": {
        "id": "qTde-jNtpLbk"
      },
      "source": [
        "**Introduccion**\n",
        "\n",
        "---\n",
        "\n",
        "En Python  hay varios tipos de datos : \n",
        "Compuesto que estan dispobinles por defecto en los interpretes \n",
        "\n",
        "*interprete: es lo que coniverte codigo a lenguajhe natural *\n",
        "\n",
        "Manejar un codigo limpio:\n",
        "1. Manejar siempre minuscula \n",
        "2. seguida la deficion con el numero asignado **ana1**\n",
        "3. se pueen añadir numeros \n",
        "\n",
        "**Tipos:**\n",
        "1. Numericos \n",
        "2. Secuencias \n",
        "3. Mapeos \n",
        "4. consujuntos usando para agrupar otros valores \n",
        "\n",
        "***Difenrecia entre Constatantas y variables ***\n",
        "\n",
        "Constante = Mangnitud que no cambia con el paso del tiempo \n",
        "\n",
        "Variable= cantidad que es susceptible a tomar distintos valores numericos \n"
      ]
    },
    {
      "cell_type": "code",
      "metadata": {
        "colab": {
          "base_uri": "https://localhost:8080/"
        },
        "id": "k6uCz72NsRVv",
        "outputId": "82e50e63-e663-4bb6-af07-77f18404cfa0"
      },
      "source": [
        "x=2\n",
        "print(x)"
      ],
      "execution_count": 1,
      "outputs": [
        {
          "output_type": "stream",
          "text": [
            "2\n"
          ],
          "name": "stdout"
        }
      ]
    },
    {
      "cell_type": "markdown",
      "metadata": {
        "id": "fpiqrHPrscsQ"
      },
      "source": [
        "***Tipos de datos: ***\n",
        "\n",
        "\n",
        "---\n",
        "\n",
        "\n",
        "***Integer = Enteros: ***\n",
        "\n",
        " Son numeros que no tienen decimales \n",
        " Pueden ser positivos y negativos \n"
      ]
    },
    {
      "cell_type": "code",
      "metadata": {
        "colab": {
          "base_uri": "https://localhost:8080/"
        },
        "id": "scO11B1Bsu0U",
        "outputId": "3ac04e44-21fc-4d6b-df3c-89a24a15217b"
      },
      "source": [
        "h=int(8)\n",
        "print(h)"
      ],
      "execution_count": 4,
      "outputs": [
        {
          "output_type": "stream",
          "text": [
            "8\n"
          ],
          "name": "stdout"
        }
      ]
    },
    {
      "cell_type": "markdown",
      "metadata": {
        "id": "Bm5JbB5ssvMn"
      },
      "source": [
        "**Float:**\n",
        "Comando libre de punto flotante, como los numeros decimales \n"
      ]
    },
    {
      "cell_type": "code",
      "metadata": {
        "colab": {
          "base_uri": "https://localhost:8080/"
        },
        "id": "Ly2RkYVhs8R0",
        "outputId": "7b2920bd-4b5f-4c4d-dfbb-f785b27fccda"
      },
      "source": [
        "b=float(9.99)\n",
        "print(b)"
      ],
      "execution_count": 3,
      "outputs": [
        {
          "output_type": "stream",
          "text": [
            "9.99\n"
          ],
          "name": "stdout"
        }
      ]
    },
    {
      "cell_type": "markdown",
      "metadata": {
        "id": "q4ClO80us9kz"
      },
      "source": [
        "**Tipo Cadena**\n",
        "\n",
        "\n",
        "---\n",
        "\n",
        "\n",
        "las cadenas son texto encerrado entre cillas (Simples o dobles) y se pueden conformar de difenrertes caracteres ( Numericos, alfabeticos, Especiales)\n",
        "\n",
        "Tener en cuneta, las cadenas admiten operadores como la suma y la resta"
      ]
    },
    {
      "cell_type": "code",
      "metadata": {
        "colab": {
          "base_uri": "https://localhost:8080/"
        },
        "id": "h2a-NETktqK0",
        "outputId": "f883b136-7df9-4277-e7c7-e92bccddc490"
      },
      "source": [
        "val1= \"Heidy Vanegas \"\n",
        "print(val1)"
      ],
      "execution_count": 2,
      "outputs": [
        {
          "output_type": "stream",
          "text": [
            "Heidy Vanegas \n"
          ],
          "name": "stdout"
        }
      ]
    },
    {
      "cell_type": "code",
      "metadata": {
        "colab": {
          "base_uri": "https://localhost:8080/"
        },
        "id": "bLReMOMXvcBI",
        "outputId": "40ef3bd8-52b6-40c4-e822-eea18defc031"
      },
      "source": [
        "n=\"Aprender\"\n",
        "z=\"Python\"\n",
        "a=\"es\"\n",
        "b=\"Genial\"\n",
        "print(n,z,a,b)\n",
        "//w=(\"Aprender Python es Genial\")\n",
        "//nzab=(a+\" \"+ z+\"  \"+ a+\" \" +b\" \")"
      ],
      "execution_count": 5,
      "outputs": [
        {
          "output_type": "stream",
          "text": [
            "Aprender Python es Genial\n"
          ],
          "name": "stdout"
        }
      ]
    },
    {
      "cell_type": "markdown",
      "metadata": {
        "id": "P38kWRFWyBoq"
      },
      "source": [
        "***Tipo Booleanos ***\n",
        "\n",
        "***True or Flase ***\n",
        "\n",
        "este tipo de variable solo tendra un valor sea Verdadero o Falso\n",
        "\n",
        "*son valores usados en condiciones y bucles*"
      ]
    },
    {
      "cell_type": "code",
      "metadata": {
        "colab": {
          "base_uri": "https://localhost:8080/"
        },
        "id": "LPZMA7-xyfC_",
        "outputId": "ee6a4d90-c464-4737-d9b5-3fd45f70bdb7"
      },
      "source": [
        "lola=True\n",
        "print(\"El valor es Verdadero \", \"el cual es de tipo:\" , type(lola))"
      ],
      "execution_count": 7,
      "outputs": [
        {
          "output_type": "stream",
          "text": [
            "El valor es Verdadero  el cual es de tipo: <class 'bool'>\n"
          ],
          "name": "stdout"
        }
      ]
    },
    {
      "cell_type": "code",
      "metadata": {
        "colab": {
          "base_uri": "https://localhost:8080/"
        },
        "id": "UssCRBvRzKbC",
        "outputId": "885668eb-5d3e-4e80-cfcf-af1901d35da6"
      },
      "source": [
        "lola=False \n",
        "print(\"El valor es Falso \", \"el cual es de tipo:\" , type(lola))"
      ],
      "execution_count": 8,
      "outputs": [
        {
          "output_type": "stream",
          "text": [
            "El valor es Falso  el cual es de tipo: <class 'bool'>\n"
          ],
          "name": "stdout"
        }
      ]
    },
    {
      "cell_type": "markdown",
      "metadata": {
        "id": "Bhj6aW43zQbW"
      },
      "source": [
        "\n",
        "Python cuenta con tipos de datos que admiten colecciones :\n",
        "\n",
        "1. Listas \n",
        "2. Tuplas\n",
        "3. Diccionarios \n",
        "\n",
        "**Tipo de Conjuntos:**\n",
        "son una coleccion de datos sin elementos que se repiten "
      ]
    },
    {
      "cell_type": "code",
      "metadata": {
        "colab": {
          "base_uri": "https://localhost:8080/"
        },
        "id": "Tbff8SoR0FLu",
        "outputId": "c7adf082-28d5-4879-fa85-4caaf876b740"
      },
      "source": [
        "fru=\"pera\",\"manzana\",\"naranja\"\n",
        "print(fru)"
      ],
      "execution_count": 9,
      "outputs": [
        {
          "output_type": "stream",
          "text": [
            "('pera', 'manzana', 'naranja')\n"
          ],
          "name": "stdout"
        }
      ]
    },
    {
      "cell_type": "markdown",
      "metadata": {
        "id": "8Mj8gs9u0PdO"
      },
      "source": [
        "Para darme cuenta que es un conjuntos se muestran es parentesis  \n",
        "\n",
        "---\n",
        "cuando es cojunto entre parentisis y si es lista entre corchetes \n"
      ]
    },
    {
      "cell_type": "markdown",
      "metadata": {
        "id": "fojsQuJ80hO9"
      },
      "source": [
        "**Tipo Listas**\n",
        "\n",
        "\n",
        "---\n",
        "Son listas las que almacenan vectores\n",
        "\n",
        "Vectores: fila o columna que tiene varios datos\n",
        "\n",
        "al nombrar una lista lo hago con corchetes \n",
        "pueden ser de cualquier tipo de dato´\n",
        "y el conteo empieza desde cero (0)\n"
      ]
    },
    {
      "cell_type": "code",
      "metadata": {
        "id": "zY1JThI60-5J"
      },
      "source": [
        ""
      ],
      "execution_count": null,
      "outputs": []
    },
    {
      "cell_type": "markdown",
      "metadata": {
        "id": "Jkqmukwx390_"
      },
      "source": [
        "**Tipo Tuplas**\n",
        "\n",
        "\n",
        "---\n",
        "*Es una lista que no se puede modificar despues de la creacion de esta *\n",
        "\n",
        "( Es un conjunto lista ) \n",
        "\n",
        "```\n",
        "Una lista entre otra lista \n",
        "Lista anidadas: Agrapacion \n",
        "otra=tupla,(1,2,3,4)\n",
        "print(otra)\n",
        "((23,28,\"Heidy\")(1,2,3,4))\n",
        "\n",
        "```\n",
        "\n",
        "\n"
      ]
    },
    {
      "cell_type": "code",
      "metadata": {
        "colab": {
          "base_uri": "https://localhost:8080/"
        },
        "id": "b2-1IksF4b4A",
        "outputId": "898cb0f1-5dbe-4afe-87f5-ca0820910c55"
      },
      "source": [
        "tupla=23,28,\"Heidy\"\n",
        "print(tupla)"
      ],
      "execution_count": 10,
      "outputs": [
        {
          "output_type": "stream",
          "text": [
            "(23, 28, 'Heidy')\n"
          ],
          "name": "stdout"
        }
      ]
    }
  ]
}