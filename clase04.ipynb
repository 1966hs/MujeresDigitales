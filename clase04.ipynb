{
  "nbformat": 4,
  "nbformat_minor": 0,
  "metadata": {
    "colab": {
      "name": "clase04.ipynb",
      "provenance": [],
      "authorship_tag": "ABX9TyOHk2zBIFnfeL9JkoqW9ipk",
      "include_colab_link": true
    },
    "kernelspec": {
      "name": "python3",
      "display_name": "Python 3"
    },
    "language_info": {
      "name": "python"
    }
  },
  "cells": [
    {
      "cell_type": "markdown",
      "metadata": {
        "id": "view-in-github",
        "colab_type": "text"
      },
      "source": [
        "<a href=\"https://colab.research.google.com/github/1966hs/MujeresDigitales/blob/main/clase04.ipynb\" target=\"_parent\"><img src=\"https://colab.research.google.com/assets/colab-badge.svg\" alt=\"Open In Colab\"/></a>"
      ]
    },
    {
      "cell_type": "markdown",
      "metadata": {
        "id": "5el_rLqBiezX"
      },
      "source": [
        "**Continuacion de Estructuras de control iterativas**\n",
        "\n",
        "\n",
        "---\n",
        "\n",
        "\n",
        "**ACUMULADORES**\n",
        "\n",
        "\n",
        "---\n",
        "\n",
        "\n",
        "Se le da esta nombre a ala variables que se encarga de almacenar algun tipo de informacion.\n",
        "\n",
        "Ej: \n",
        "el caso de la compra de viveres en la tienda:\n",
        "\n",
        "\n"
      ]
    },
    {
      "cell_type": "code",
      "metadata": {
        "colab": {
          "base_uri": "https://localhost:8080/"
        },
        "id": "CMqzoUcQjin-",
        "outputId": "e7477ecd-f66d-4989-9353-265f6ef807b1"
      },
      "source": [
        "nombre=input(\"Nombre del consumidor:\")\n",
        "ListaCompras=\"\"\n",
        "print(nombre, \"escribe los siguientes vivieres para su compra en el supermecardo:\")\n",
        "ListaCompras= ListaCompras + \"Champiñones\"\n",
        "print(\"------Compras que tengo que hacer ------\")\n",
        "ListaCompras= ListaCompras + \", Pimenton\"\n",
        "ListaCompras= ListaCompras + \", Tomates Cherry\"\n",
        "print(ListaCompras) #separadores con , "
      ],
      "execution_count": null,
      "outputs": [
        {
          "output_type": "stream",
          "text": [
            "Nombre del consumidor:david\n",
            "david escribe los siguientes vivieres para su compra en el supermecardo:\n",
            "------Compras que tengo que hacer ------\n",
            "Champiñones, Pimenton, Tomates Cherry\n"
          ],
          "name": "stdout"
        }
      ]
    },
    {
      "cell_type": "markdown",
      "metadata": {
        "id": "jRj_ddU2lgEP"
      },
      "source": [
        "La variable \"ListaCompras\" nos esta sriviendo para acumular informacion de la lista de compras, podemos observar que NO estamos creando una variable por cada item, si no una variables definida nos sirve para almacenar la informacion\n",
        "\n",
        "\n",
        "A continuacion observemos un ejemplo donde se ponga en practica el uso de acumulacion en un variable usando cantidades y precios"
      ]
    },
    {
      "cell_type": "code",
      "metadata": {
        "colab": {
          "base_uri": "https://localhost:8080/"
        },
        "id": "FPhNESaZmC53",
        "outputId": "5a778072-e991-4601-e627-f3c061ae7c53"
      },
      "source": [
        "tomates=14000 #precio de los tomates cherry \n",
        "tpph=2 #cantidad de paquetes \n",
        "champi= 18000 # precio de los champiñones\n",
        "chapi=4 #unidades de champiñones \n",
        "pimiento=17000 # precio del pimenton \n",
        "pimi=3 #cantidad de pimentones \n",
        "\n",
        "subtotal=0\n",
        "print(\"Calculando el total de la compra ...\")\n",
        "total_tomates=tomates*tpph\n",
        "print(\"el valor total de los  tomates es:  $ \", total_tomates)\n",
        "subtotal=subtotal+total_tomates\n",
        "print(\"-- el subtotal es: $\", subtotal)\n",
        "\n",
        "total_champiñones=champi*chapi\n",
        "print(\"el valor total de los champiñones es $\", total_champiñones)\n",
        "subtotal= subtotal+total_champiñones\n",
        "print(\"-- el subtotal es : $\" , subtotal)\n",
        "\n",
        "total_pimiento=pimiento*pimi\n",
        "print(\"el valor total del los pimientos es: $\", total_pimiento)\n",
        "subtotal=subtotal+total_pimiento\n",
        "print(\"-- el subtotal es : $\", subtotal)"
      ],
      "execution_count": 8,
      "outputs": [
        {
          "output_type": "stream",
          "text": [
            "Calculando el total de la compra ...\n",
            "el valor total de los  tomates es:  $  28000\n",
            "-- el subtotal es: $ 28000\n",
            "el valor total de los champiñones es $ 72000\n",
            "-- el subtotal es : $ 100000\n",
            "el valor total del los pimientos es: $ 51000\n",
            "-- el subtotal es : $ 151000\n"
          ],
          "name": "stdout"
        }
      ]
    },
    {
      "cell_type": "markdown",
      "metadata": {
        "id": "mUgGLoX-oupn"
      },
      "source": [
        "**CONTADORES**\n",
        "\n",
        "---\n",
        "\n",
        "Tienen mucha relacion con los *acumuladores* visto en el apartado anterior. \n",
        "Estas variables se caraterizan por ser variables de control, es decir controlan la **cantidad** de veces que se ejecuta determianda accion\n",
        "\n",
        "Ej: el caso de la compra de viveres en la tienda:\n",
        "\n",
        "con contadores:\n"
      ]
    },
    {
      "cell_type": "code",
      "metadata": {
        "colab": {
          "base_uri": "https://localhost:8080/"
        },
        "id": "qbc7sakgpl0O",
        "outputId": "68b52a5d-5de7-414b-b271-09d2105f181c"
      },
      "source": [
        "# se compra tomates por unidad :\n",
        "#parte de eso y esta vacia, almacena datos de tipos numericos \n",
        "contp=0\n",
        "print(\"se realizara la compra de tomates ... se ha iniciado la compra y asignacion en el carrito. En total hay: \", contp, \"tomates\")\n",
        "contp=contp+1\n",
        "print(\"ahora hay:\" , contp, \"tomates\")\n",
        "contp=contp+1\n",
        "print(\"ahora hay:\" , contp, \"tomates\")\n",
        "contp=contp+1\n",
        "print(\"ahora hay:\" , contp, \"tomates\")\n",
        "contp=contp+1\n",
        "print(\"ahora hay:\" , contp, \"tomates\")\n",
        "print(\"ahora hay:\" , contp, \"tomates\")\n",
        "contp=contp+1\n",
        "print(\"ahora hay:\" , contp, \"tomates\")\n",
        "contp=contp+1\n",
        "print(\"ahora hay:\" , contp, \"tomates\")\n",
        "contp=contp+1\n",
        "print(\"ahora hay:\" , contp, \"tomates\")\n",
        "# va contando de 1 en 1 \n"
      ],
      "execution_count": 11,
      "outputs": [
        {
          "output_type": "stream",
          "text": [
            "se realizara la compra de tomates ... se ha iniciado la compra y asignacion en el carrito. En total hay:  0 tomates\n",
            "ahora hay: 1 tomates\n",
            "ahora hay: 2 tomates\n",
            "ahora hay: 3 tomates\n",
            "ahora hay: 4 tomates\n",
            "ahora hay: 4 tomates\n",
            "ahora hay: 5 tomates\n",
            "ahora hay: 6 tomates\n",
            "ahora hay: 7 tomates\n"
          ],
          "name": "stdout"
        }
      ]
    },
    {
      "cell_type": "markdown",
      "metadata": {
        "id": "s7uKH8iiq9D1"
      },
      "source": [
        "**CICLOS CONTROLADOS POR CONDICIONES**\n",
        "\n",
        "*WHILE*\n",
        "\n",
        "\n",
        "---\n",
        "\n",
        "Recordemos que las variables de control, nos permite manejar estados, pasar de un estado a otro es por ejemplo: Una variable que no contiene elementos a contenerlo o una variable un elemento a particular ( acumulador o contador) y cambairlo por completo (bandera)\n",
        "\n",
        "Estas variables de control son la base del ciclo de control. Siendo mas claros, pasar de un adiccion manual a algo mas automatizado.\n",
        "\n",
        "Empezamos con el ciclo \"WHILE\" en español \"mientras\". Este ciclo se compone de una **condicion** y su **bloque de codigo**. Lo que nos quiere de while es que el bloque de codigo se ejecutara **mientras** la condicion da como resultado True o False "
      ]
    },
    {
      "cell_type": "code",
      "metadata": {
        "colab": {
          "base_uri": "https://localhost:8080/"
        },
        "id": "k839zKDGsUS2",
        "outputId": "457aee53-215a-4312-e964-d75b444ff9b6"
      },
      "source": [
        "lapiz=5\n",
        "conlapiz=0\n",
        "print(\"se ha iniciado la compra. En total hay: \", conlapiz, lapiz )\n",
        "#minetras ese contlapiz sea menor a lapiz va a hacer lo q yo diga\n",
        "while ( conlapiz< lapiz ): \n",
        "  conlapiz=conlapiz+1\n",
        "  print(\"se ha realizado la compra de Lapices. Ahora hay\", conlapiz, \"lapiz\")"
      ],
      "execution_count": 15,
      "outputs": [
        {
          "output_type": "stream",
          "text": [
            "se ha iniciado la compra. En total hay:  0 5\n",
            "se ha realizado la compra de Lapices. Ahora hay 1 lapiz\n",
            "se ha realizado la compra de Lapices. Ahora hay 2 lapiz\n",
            "se ha realizado la compra de Lapices. Ahora hay 3 lapiz\n",
            "se ha realizado la compra de Lapices. Ahora hay 4 lapiz\n",
            "se ha realizado la compra de Lapices. Ahora hay 5 lapiz\n"
          ],
          "name": "stdout"
        }
      ]
    },
    {
      "cell_type": "code",
      "metadata": {
        "id": "zx5_cGeVuxfF"
      },
      "source": [
        "#str es para convertir un dato numerico a tipo cadena para mostratr el resultado"
      ],
      "execution_count": null,
      "outputs": []
    },
    {
      "cell_type": "code",
      "metadata": {
        "id": "mlZIXYOrvI41"
      },
      "source": [
        ""
      ],
      "execution_count": null,
      "outputs": []
    },
    {
      "cell_type": "markdown",
      "metadata": {
        "id": "rTiur9ygvG_T"
      },
      "source": [
        "NOTA: tener en cuneta que dentro del cilco de WHILE se va afectando las variables implicadas en la declaracion de la condicion se debe cumplir el ciclo. En el ejemplo anterior la varible conlapiz para que en algun momento la condcion sea verdadera y termine el ciclo se tiene que cumplir la condcion (conplaiz<lapiz) . de lo contraio tendriamos un ciclo que nunca se detendria , lo cual decantaria en un ciclo interminable "
      ]
    },
    {
      "cell_type": "markdown",
      "metadata": {
        "id": "QMwsl0pAwFst"
      },
      "source": [
        "**CICLO DE FOR**\n",
        "\n",
        "---\n",
        "\n",
        "Es un ciclo especializado y optimizado para los cilos controlados por cantidad. Se compone de tres elementos\n",
        "1. La variable de iteracion\n",
        "2. Elemento de iteracion\n",
        "3. Bloque de codigo a iterar \n",
        "\n",
        "En Python es muy importante y se considera una herramienta bastante flexible y poderosa, por permitir ingresar estructuras de datos complejas, cadena de caracteres, rango, entre otros. Los elementos de iteracion usados en esta estructura de dato son necesarios que tengan la siguiente caracteristica: \n",
        "\n",
        "1. cantidad definida\n",
        " ( Esto lo difenrencia del while) xq el while parte de una condicion de verdad, pero el **for** parte de una cantidad definida \n",
        "\n",
        "\n"
      ]
    },
    {
      "cell_type": "code",
      "metadata": {
        "colab": {
          "base_uri": "https://localhost:8080/"
        },
        "id": "slhrUB5ZxPmk",
        "outputId": "67498376-60c6-4139-80e5-1a45df20eae7"
      },
      "source": [
        "##ejemplo de los lapiz\n",
        "print(\"se ha iniciado la compra. En total hay : 0 lapices.\")\n",
        "for i in range(1,6): # En los rangos , la funcion range manejan un intervalo abierto a la derecha y cerrado a la izquierda \n",
        "  print( \"se ha realizado la compra de lapices. Ahora hay:\", i, \"lapices\")\n",
        "## la varible iteracion i el elemnto iteracion que es el rango hasta donde va allegar y el bloque de codigo que se genera hasta cumplir "
      ],
      "execution_count": 16,
      "outputs": [
        {
          "output_type": "stream",
          "text": [
            "se ha iniciado la compra. En total hay : 0 lapices.\n",
            "se ha realizado la compra de lapices. Ahora hay: 1 lapices\n",
            "se ha realizado la compra de lapices. Ahora hay: 2 lapices\n",
            "se ha realizado la compra de lapices. Ahora hay: 3 lapices\n",
            "se ha realizado la compra de lapices. Ahora hay: 4 lapices\n",
            "se ha realizado la compra de lapices. Ahora hay: 5 lapices\n"
          ],
          "name": "stdout"
        }
      ]
    }
  ]
}