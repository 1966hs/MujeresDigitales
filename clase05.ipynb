{
  "nbformat": 4,
  "nbformat_minor": 0,
  "metadata": {
    "colab": {
      "name": "clase05.ipynb",
      "provenance": [],
      "authorship_tag": "ABX9TyNb3coWTElunk6reYBk1kL6",
      "include_colab_link": true
    },
    "kernelspec": {
      "name": "python3",
      "display_name": "Python 3"
    },
    "language_info": {
      "name": "python"
    }
  },
  "cells": [
    {
      "cell_type": "markdown",
      "metadata": {
        "id": "view-in-github",
        "colab_type": "text"
      },
      "source": [
        "<a href=\"https://colab.research.google.com/github/1966hs/MujeresDigitales/blob/main/clase05.ipynb\" target=\"_parent\"><img src=\"https://colab.research.google.com/assets/colab-badge.svg\" alt=\"Open In Colab\"/></a>"
      ]
    },
    {
      "cell_type": "markdown",
      "metadata": {
        "id": "7bpdejfqo7tl"
      },
      "source": [
        "#**Continuacion de Ciclos**\n",
        "\n",
        "\n",
        "---\n",
        "\n",
        "\n",
        "**Ciclo FOR - Bucle FOR**\n",
        "\n"
      ]
    },
    {
      "cell_type": "code",
      "metadata": {
        "colab": {
          "base_uri": "https://localhost:8080/"
        },
        "id": "Edp4yjlYpuxS",
        "outputId": "69ab90c5-fb6d-492b-bab1-c166fa895138"
      },
      "source": [
        "for i in range(1,5): # el del lado derecho es intervalo abierto, no toma el ultimo valor \n",
        "  print(i)"
      ],
      "execution_count": null,
      "outputs": [
        {
          "output_type": "stream",
          "text": [
            "1\n",
            "2\n",
            "3\n",
            "4\n"
          ],
          "name": "stdout"
        }
      ]
    },
    {
      "cell_type": "markdown",
      "metadata": {
        "id": "gZkhEwZJp-j_"
      },
      "source": [
        "Para dejar claro las partes que componen al bucle FOR:\n",
        "\n",
        "1. **Iterable** : Son los objetos que pueden ser iteraodr. Por ejemplo una lista, valor tipo cadena, etc\n",
        "2. **Iterador** : Son objetos que hacen referencia a un elemento, ( Para hacer refenrecia a cada uno de los elemento hay un metodo denominado \"next\" que permite hacer referencia a los elementos del conjunto.\n",
        "3. **iterar** : que se ejecute hasta que cumpla un valor \n",
        "\n",
        "*iterables, despues del in y el iterador antes del in*\n",
        "#NOTA \n",
        "\n",
        "in : en donde se va a ejecutar \n",
        "\n",
        "*for (variable) in (iterable):*#(Bloque de Codigo)\n",
        "\n",
        "   Algunos ejemplos de iterables en Python son las listas, cadenas, deccionarios,tuplas, etc.\n",
        "\n",
        "¿como saber que es iterable a la hora de programar?\n",
        "\n",
        "Podemos darnos cuneta que es iterable usando la función **isinstance()**. \n"
      ]
    },
    {
      "cell_type": "code",
      "metadata": {
        "colab": {
          "base_uri": "https://localhost:8080/"
        },
        "id": "iEoSEtvJsX09",
        "outputId": "b714a440-ce67-4b1a-fada-7844b30f9f73"
      },
      "source": [
        "from collections import Iterable #fremework Iterable de Collections (Python3.9)\n",
        "#saber lo que pongo despues del in es iterable \n",
        "lista=(1,2,3,4,5,6,7,8,9,0)\n",
        "a=\"computador\"\n",
        "b=14\n",
        "print(isinstance(lista, Iterable )) #viene de la libreria de arriba\n",
        "print(isinstance(a, Iterable )) # cuano es cadena es iterable por que cuenta letra por letrs\n",
        "print(isinstance(b, Iterable )) # valores fijos no son iterables "
      ],
      "execution_count": null,
      "outputs": [
        {
          "output_type": "stream",
          "text": [
            "True\n",
            "True\n",
            "False\n"
          ],
          "name": "stdout"
        }
      ]
    },
    {
      "cell_type": "markdown",
      "metadata": {
        "id": "ptMrEHvjvtbE"
      },
      "source": [
        "para entender los iteradores, es importante conocer la funcion *iter()*, esta funcion puede ser llamada sobre un objeto que sea iterables, nos devolvera un iterador.\n",
        "\n",
        "Ej:"
      ]
    },
    {
      "cell_type": "code",
      "metadata": {
        "colab": {
          "base_uri": "https://localhost:8080/"
        },
        "id": "ORwWQG04wCVz",
        "outputId": "052b8f76-e764-41c0-851d-09146e8626fc"
      },
      "source": [
        "lista=[1,2,3,4,5,6,7,8,9,0]# es una lista iterable \n",
        "ref=iter(lista)\n",
        "print(ref)\n",
        "print(type(ref))"
      ],
      "execution_count": null,
      "outputs": [
        {
          "output_type": "stream",
          "text": [
            "<list_iterator object at 0x7f92f1dd7810>\n",
            "<class 'list_iterator'>\n"
          ],
          "name": "stdout"
        }
      ]
    },
    {
      "cell_type": "markdown",
      "metadata": {
        "id": "-Ygdobv2wc2c"
      },
      "source": [
        "Al imprimir Ref es un iterador, de la clase *List_iterador*, Hace referencia a la lista orignal y nos permite acceder a sus elementos con la funcion *next()*\n",
        "\n",
        "#NOTA \n",
        "Cada vez que llamemos a next( sobre Ref, nos devuelve el siguiente elemento de la lista original \n",
        "\n",
        "Ejemplo: quiero acceder al elemento 7, tendremos que llamar siete veces a next()"
      ]
    },
    {
      "cell_type": "code",
      "metadata": {
        "colab": {
          "base_uri": "https://localhost:8080/"
        },
        "id": "8DiR__UtwwEU",
        "outputId": "2caaf9c1-4abb-454f-f755-e922287078f0"
      },
      "source": [
        "lista=[1,2,3,4,5,6,7,8,9,0]\n",
        "ref=iter(lista)\n",
        "print(next(ref))\n",
        "print(next(ref))\n",
        "print(next(ref))\n",
        "print(next(ref))\n",
        "print(next(ref)) # me permite identificar cada uno de los elementos de mi lista "
      ],
      "execution_count": null,
      "outputs": [
        {
          "output_type": "stream",
          "text": [
            "1\n",
            "2\n",
            "3\n",
            "4\n",
            "5\n"
          ],
          "name": "stdout"
        }
      ]
    },
    {
      "cell_type": "markdown",
      "metadata": {
        "id": "HrJtxDTuxaNg"
      },
      "source": [
        "**Tener en cuenta**\n",
        "Existen otros iteradores para las diferentes clases:\n",
        "1. srt_iterador para cadenas\n",
        "2. list_iterador para  listas \n",
        "3. set_iterador para conjuntos \n",
        "4. dict_key_iterador para diccionarios \n",
        "\n"
      ]
    },
    {
      "cell_type": "markdown",
      "metadata": {
        "id": "UyUPt9iDyEbO"
      },
      "source": [
        "#**For anidados**\n",
        "\n",
        "\n",
        "---\n",
        "\n",
        "Es posible anidar los FOR, ingresar uno dentro de otro:"
      ]
    },
    {
      "cell_type": "code",
      "metadata": {
        "colab": {
          "base_uri": "https://localhost:8080/"
        },
        "id": "Ew15iiJpyOZw",
        "outputId": "82aa10d5-62b0-4ab4-90f3-fca2797e3e7a"
      },
      "source": [
        "#Vamos a crear una lista de listas, lo cual conforma una especie de matriz \n",
        "#Recordemos que una matriz se compone de valores de filas y columnas \n",
        "\n",
        "qa=[[1,2,3],\n",
        "    [4,5,6],\n",
        "    [7,8,9]]\n",
        "\n",
        "for i in qa:\n",
        "  print(i)\n",
        "\n",
        "for i in qa:\n",
        "   for j in i:\n",
        "    print(j)"
      ],
      "execution_count": null,
      "outputs": [
        {
          "output_type": "stream",
          "text": [
            "[1, 2, 3]\n",
            "[4, 5, 6]\n",
            "[7, 8, 9]\n",
            "1\n",
            "2\n",
            "3\n",
            "4\n",
            "5\n",
            "6\n",
            "7\n",
            "8\n",
            "9\n"
          ],
          "name": "stdout"
        }
      ]
    },
    {
      "cell_type": "markdown",
      "metadata": {
        "id": "pQEWfCs2zSHQ"
      },
      "source": [
        "Si queremos acceder a cada elemento individualmente, se procede a realizar un bucle de FOR anidado. Es decir, un for se encargará de iterar las columnas y el otro las filas "
      ]
    },
    {
      "cell_type": "code",
      "metadata": {
        "colab": {
          "base_uri": "https://localhost:8080/"
        },
        "id": "YNSSAQ-Mz0nA",
        "outputId": "b5878942-d840-4b3e-e6cd-901a929977e1"
      },
      "source": [
        "#Otra forma de utilizar el FOR. Es la iteracion al revés. Es decir se puede iterar la lista desde el ultimo al primer elemento \n",
        "\n",
        "lista=[1,2,3,4,5,6,7,8,9,0]\n",
        "for i in lista [ : : -1]:  # me va a mostrar de derecha a izquierda\n",
        " print(i)\n"
      ],
      "execution_count": null,
      "outputs": [
        {
          "output_type": "stream",
          "text": [
            "0\n",
            "9\n",
            "8\n",
            "7\n",
            "6\n",
            "5\n",
            "4\n",
            "3\n",
            "2\n",
            "1\n"
          ],
          "name": "stdout"
        }
      ]
    },
    {
      "cell_type": "code",
      "metadata": {
        "colab": {
          "base_uri": "https://localhost:8080/"
        },
        "id": "IHn7UKK50ne3",
        "outputId": "52913075-3c7a-4afb-8c52-45061b39450e"
      },
      "source": [
        "lista=[1,2,3,4,5,6,7,8,9,0]\n",
        "for i in lista [: : 2 ]: # va saltando de 2 en dos \n",
        " print( i )\n",
        "\n",
        "print(\"----------------------------\")\n",
        "a=\"computador\"\n",
        "for i in a[: : 4]:\n",
        "   print(i)"
      ],
      "execution_count": null,
      "outputs": [
        {
          "output_type": "stream",
          "text": [
            "1\n",
            "3\n",
            "5\n",
            "7\n",
            "9\n",
            "----------------------------\n",
            "c\n",
            "u\n",
            "o\n"
          ],
          "name": "stdout"
        }
      ]
    },
    {
      "cell_type": "code",
      "metadata": {
        "colab": {
          "base_uri": "https://localhost:8080/"
        },
        "id": "BtT5DOfz03Yb",
        "outputId": "929ecab7-1e7e-4abc-ad04-bf3da6b5e2f8"
      },
      "source": [
        "#Usando rangos \n",
        "\n",
        "for i in range(20):\n",
        "  print(i)\n",
        "# El range genera un secuencia de numeros que va desde 0 hasta el numero que se pasa como parametro menos 2.\n",
        "\n",
        "# La estructura : range(inicio : fin : salto que hace( como el paso) )\n",
        "\n",
        "#Truco con el range:\n",
        "\n",
        "print(list(range(2,10,2))) # convertir un rango en una lista "
      ],
      "execution_count": null,
      "outputs": [
        {
          "output_type": "stream",
          "text": [
            "0\n",
            "1\n",
            "2\n",
            "3\n",
            "4\n",
            "5\n",
            "6\n",
            "7\n",
            "8\n",
            "9\n",
            "10\n",
            "11\n",
            "12\n",
            "13\n",
            "14\n",
            "15\n",
            "16\n",
            "17\n",
            "18\n",
            "19\n",
            "[2, 4, 6, 8]\n"
          ],
          "name": "stdout"
        }
      ]
    },
    {
      "cell_type": "markdown",
      "metadata": {
        "id": "JGVmD0ic3puF"
      },
      "source": [
        "**Lista de compresión**\n",
        "\n",
        "---\n",
        "\n",
        "Estas nos permite crear listas de elementos en un sola linea de codigo. \n",
        "\n",
        "Ejemplos: Crear una lista de las potencias a la 3 de los numeros impares de 0 a 9 "
      ]
    },
    {
      "cell_type": "code",
      "metadata": {
        "colab": {
          "base_uri": "https://localhost:8080/"
        },
        "id": "d7_BMaqI38sw",
        "outputId": "ff73d973-3ca9-4c16-fd81-060d3d2deb1e"
      },
      "source": [
        "tres=[i**3 for i in range(1,10,2)]\n",
        "#0,1,3,5\n",
        "print(tres)\n",
        "\n",
        "tres=[]\n",
        "for i in range(1,10,2):\n",
        "  tres.append(i**3) #hacer ese calculo para cada uno de los numeros \n",
        "  print(tres)\n"
      ],
      "execution_count": null,
      "outputs": [
        {
          "output_type": "stream",
          "text": [
            "[1, 27, 125, 343, 729]\n",
            "[1]\n",
            "[1, 27]\n",
            "[1, 27, 125]\n",
            "[1, 27, 125, 343]\n",
            "[1, 27, 125, 343, 729]\n"
          ],
          "name": "stdout"
        }
      ]
    },
    {
      "cell_type": "code",
      "metadata": {
        "colab": {
          "base_uri": "https://localhost:8080/"
        },
        "id": "we7gHgG45_yP",
        "outputId": "01eb8ca8-dd1c-469e-ad49-1f471280282b"
      },
      "source": [
        "uno=[1 for i in range(10)] # 10 valores con el 1 xq asi lo defini, dije que tomara el valor de 1 \n",
        "print(uno)"
      ],
      "execution_count": null,
      "outputs": [
        {
          "output_type": "stream",
          "text": [
            "[1, 1, 1, 1, 1, 1, 1, 1, 1, 1]\n"
          ],
          "name": "stdout"
        }
      ]
    },
    {
      "cell_type": "code",
      "metadata": {
        "colab": {
          "base_uri": "https://localhost:8080/"
        },
        "id": "ftML5Pdw6TnR",
        "outputId": "048f7a36-1e26-4e3f-af33-3d276a5adb84"
      },
      "source": [
        "lista1=[5,10,15,20,25,30]\n",
        "lista2=[i/5 for i in lista1] #cada uno de los elementos lo dividio en 5\n",
        "print(lista2)\n"
      ],
      "execution_count": null,
      "outputs": [
        {
          "output_type": "stream",
          "text": [
            "[1.0, 2.0, 3.0, 4.0, 5.0, 6.0]\n"
          ],
          "name": "stdout"
        }
      ]
    },
    {
      "cell_type": "code",
      "metadata": {
        "colab": {
          "base_uri": "https://localhost:8080/"
        },
        "id": "R-atMI7Y7AbC",
        "outputId": "f893c312-70bf-4716-c810-e8e44a5aa45f"
      },
      "source": [
        "pera=\"mama ama a ema\"\n",
        "pera2=[i for i in  pera if i==\"a\"]\n",
        "print(pera2) #traer tantas veces se repite la variable \"m\" \n",
        "\n",
        "\n",
        "print(len(pera2)) # me dice la cantidad de veces que se repite "
      ],
      "execution_count": null,
      "outputs": [
        {
          "output_type": "stream",
          "text": [
            "['a', 'a', 'a', 'a', 'a', 'a']\n",
            "6\n"
          ],
          "name": "stdout"
        }
      ]
    }
  ]
}