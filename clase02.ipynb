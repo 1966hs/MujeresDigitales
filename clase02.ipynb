{
  "nbformat": 4,
  "nbformat_minor": 0,
  "metadata": {
    "colab": {
      "name": "clase02.ipynb",
      "provenance": [],
      "authorship_tag": "ABX9TyP2wIfuaeAZrzXZkmSJMCj+",
      "include_colab_link": true
    },
    "kernelspec": {
      "name": "python3",
      "display_name": "Python 3"
    },
    "language_info": {
      "name": "python"
    }
  },
  "cells": [
    {
      "cell_type": "markdown",
      "metadata": {
        "id": "view-in-github",
        "colab_type": "text"
      },
      "source": [
        "<a href=\"https://colab.research.google.com/github/1966hs/MujeresDigitales/blob/main/clase02.ipynb\" target=\"_parent\"><img src=\"https://colab.research.google.com/assets/colab-badge.svg\" alt=\"Open In Colab\"/></a>"
      ]
    },
    {
      "cell_type": "markdown",
      "metadata": {
        "id": "A5se53GwvCLs"
      },
      "source": [
        "***Operadores Matematicos ***\n",
        "\n",
        "---\n",
        "\n",
        "los operadores permiten realizar diferentes procesos de calculo en cualuiqer lenguaje de programacion\n",
        "\n",
        "1. Suma \n",
        "2. Resta \n",
        "3. Multiplicacion\n",
        "4. Division\n",
        "5. Potenciacion\n",
        "6. Modulo\n"
      ]
    },
    {
      "cell_type": "markdown",
      "metadata": {
        "id": "RYDX9V2ov-Fe"
      },
      "source": [
        "**Suma:**\n",
        "\n",
        "\n",
        "\n",
        "\n",
        "Simbolo suma(+) el cual se utiliza en medio de la declaracion de las variables a operar \n"
      ]
    },
    {
      "cell_type": "code",
      "metadata": {
        "colab": {
          "base_uri": "https://localhost:8080/"
        },
        "id": "HPcDDHaQwVZr",
        "outputId": "59ff6d03-bdc0-4b78-abd2-4b295ae2f37c"
      },
      "source": [
        "print(23+989) #directamente\n",
        "a=23  #declarando las variables \n",
        "b=668\n",
        "print(a+b)"
      ],
      "execution_count": null,
      "outputs": [
        {
          "output_type": "stream",
          "text": [
            "1012\n",
            "691\n"
          ],
          "name": "stdout"
        }
      ]
    },
    {
      "cell_type": "code",
      "metadata": {
        "colab": {
          "base_uri": "https://localhost:8080/"
        },
        "id": "qND1iIhdw176",
        "outputId": "cd9329d9-615f-47d6-ecb0-43265ef43916"
      },
      "source": [
        "numero_casas=23\n",
        "print(numero_casas + 87) \n",
        "numero_casas=numero_casas + 12  #conteo continuo \n",
        "print(numero_casas) "
      ],
      "execution_count": null,
      "outputs": [
        {
          "output_type": "stream",
          "text": [
            "110\n",
            "35\n"
          ],
          "name": "stdout"
        }
      ]
    },
    {
      "cell_type": "markdown",
      "metadata": {
        "id": "WCMoW_YNZGYX"
      },
      "source": [
        "**Suma entre los diferentes tipos de variables**\n",
        "\n",
        "\n",
        "\n",
        "---\n",
        "1. Declaracion de variables numericas enteras\n",
        "2. Flotantes ( incorpra y flexibiliza laa los decimales \n",
        "3. Tipo cadena\n",
        "\n",
        "\n",
        "*Entre un entero y un flotante el tipo de dato que predomina es el flotante (tanto para suma y para resta*\n"
      ]
    },
    {
      "cell_type": "code",
      "metadata": {
        "colab": {
          "base_uri": "https://localhost:8080/"
        },
        "id": "xZ40weLAyNmM",
        "outputId": "af473407-8422-417c-88be-8530aef3dcf3"
      },
      "source": [
        "q1=23\n",
        "q2=34.8\n",
        "print(q1+q2)\n",
        "print(type(q1+q2))  #Type((para que me muestre el tipo de dato que estoy usando ))"
      ],
      "execution_count": null,
      "outputs": [
        {
          "output_type": "stream",
          "text": [
            "57.8\n",
            "<class 'float'>\n"
          ],
          "name": "stdout"
        }
      ]
    },
    {
      "cell_type": "code",
      "metadata": {
        "colab": {
          "base_uri": "https://localhost:8080/"
        },
        "id": "gXls4A5tapxO",
        "outputId": "169727ef-2d99-4f51-d1cc-c3de864b54ae"
      },
      "source": [
        "v1=\"quiero\"\n",
        "v2=\"un celular\"\n",
        "print(v1,v2)"
      ],
      "execution_count": 1,
      "outputs": [
        {
          "output_type": "stream",
          "text": [
            "quiero un celular\n"
          ],
          "name": "stdout"
        }
      ]
    },
    {
      "cell_type": "markdown",
      "metadata": {
        "id": "UuwUujmMTjVy"
      },
      "source": [
        "**Resta**\n",
        "\n",
        "Simbolo resta(-) el cual se utiliza en medio de la declaracion de las variables a operar \n"
      ]
    },
    {
      "cell_type": "code",
      "metadata": {
        "id": "8oGSz_WYyOFJ",
        "colab": {
          "base_uri": "https://localhost:8080/"
        },
        "outputId": "b0b626e1-a592-446e-c831-0b1d564ff4a3"
      },
      "source": [
        "xq2=345\n",
        "xq3=35\n",
        "print(xq2-xq3)\n",
        "\n",
        "xq2=345.99\n",
        "xq3=35\n",
        "print(xq2-xq3)"
      ],
      "execution_count": 3,
      "outputs": [
        {
          "output_type": "stream",
          "text": [
            "310\n",
            "310.99\n"
          ],
          "name": "stdout"
        }
      ]
    },
    {
      "cell_type": "markdown",
      "metadata": {
        "id": "dcJY65OabtGu"
      },
      "source": [
        "**Importante La resta no funciona directamente para variables tipo cadena**"
      ]
    },
    {
      "cell_type": "markdown",
      "metadata": {
        "id": "MwXU6V1n1Dwl"
      },
      "source": [
        "**Multiplicacion**\n",
        "\n",
        "Definamos la multiplicacion como la suma de varias veces un numero, cantidad de veces indicadas por el otro numero,  simbolo que se maneja es ( *)"
      ]
    },
    {
      "cell_type": "code",
      "metadata": {
        "colab": {
          "base_uri": "https://localhost:8080/"
        },
        "id": "6H42vdwVdFgA",
        "outputId": "ff8f83ee-889e-44c8-830c-e30109d0c208"
      },
      "source": [
        "cali=78\n",
        "palmiras=98\n",
        "print(cali*palmiras)"
      ],
      "execution_count": 4,
      "outputs": [
        {
          "output_type": "stream",
          "text": [
            "7644\n"
          ],
          "name": "stdout"
        }
      ]
    },
    {
      "cell_type": "markdown",
      "metadata": {
        "id": "KItdHm-jdVdq"
      },
      "source": [
        "**Importante, se aplica la ley conmutativa**\n",
        "\n",
        "La ley conmutativa es el orden de los valores no altera el resulltado ( Aplica para suma y multiplicacion)"
      ]
    },
    {
      "cell_type": "markdown",
      "metadata": {
        "id": "4lJqhVEIfJ0a"
      },
      "source": [
        "  **Division**\n",
        "\n",
        "\n",
        "\n",
        "---\n",
        "\n",
        "**No** aplica la ley conmutativa, y el simbolo de dision es (/)"
      ]
    },
    {
      "cell_type": "code",
      "metadata": {
        "id": "OTnG390eftkt"
      },
      "source": [
        "a=7\n",
        "b=8\n",
        "print(a/b, b/a)"
      ],
      "execution_count": null,
      "outputs": []
    },
    {
      "cell_type": "markdown",
      "metadata": {
        "id": "U0i_3tlM29w5"
      },
      "source": [
        "**Tipos de Division**\n",
        "\n",
        "\n",
        "---\n",
        "\n",
        "1. Division exacta (/) *el residuo queda ahi en la operacion*\n",
        "2. Division Inexacta (//) *muestra solo el residuo en numero entero*\n",
        "\n",
        "\n",
        "\n"
      ]
    },
    {
      "cell_type": "code",
      "metadata": {
        "colab": {
          "base_uri": "https://localhost:8080/"
        },
        "id": "XOyZAen43U6O",
        "outputId": "7aa39bdb-ec93-4845-8327-fca0a988a30f"
      },
      "source": [
        "\n",
        "print(14/3)\n",
        "print(14//3)"
      ],
      "execution_count": 7,
      "outputs": [
        {
          "output_type": "stream",
          "text": [
            "4.666666666666667\n",
            "4\n"
          ],
          "name": "stdout"
        }
      ]
    },
    {
      "cell_type": "markdown",
      "metadata": {
        "id": "0iF2sy1bewEe"
      },
      "source": [
        "Para **Print** podemos separar las operaciones por variables con (,) Lo cual, no afecta la impresion de los resultados por operacion signada \n"
      ]
    },
    {
      "cell_type": "markdown",
      "metadata": {
        "id": "QWS9lnTd3i0r"
      },
      "source": [
        "Nota : Operacion de division, al igual que una division normal, **No es posible dividir entre cero. ¿Por que? Por que es matematicas es un resultado indefinido.\n",
        "\n",
        "\n",
        "\n"
      ]
    },
    {
      "cell_type": "markdown",
      "metadata": {
        "id": "ixU4lMiC4iiA"
      },
      "source": [
        "**Potenciacion** \n",
        "\n",
        "En Python el simbolo es (**) \n",
        "\n",
        "El primer valor es la base y el ultimo valor es el exponente \n",
        "\n"
      ]
    },
    {
      "cell_type": "code",
      "metadata": {
        "colab": {
          "base_uri": "https://localhost:8080/"
        },
        "id": "uFnOc3aD4wKv",
        "outputId": "c02d8472-dfe9-4f0a-b601-4bce22a5161b"
      },
      "source": [
        "print(2**6)"
      ],
      "execution_count": null,
      "outputs": [
        {
          "output_type": "stream",
          "text": [
            "64\n"
          ],
          "name": "stdout"
        }
      ]
    },
    {
      "cell_type": "markdown",
      "metadata": {
        "id": "Pt5KLnVd5Fn7"
      },
      "source": [
        "**Modulo**\n",
        "\n",
        "La llamamos modulo al residuo de la operacion de division. El simbolo para mostrar el residuo es (%) El primer valor es el diviviendo y el ultimo valor es de divisor \n",
        "\n"
      ]
    },
    {
      "cell_type": "code",
      "metadata": {
        "colab": {
          "base_uri": "https://localhost:8080/"
        },
        "id": "YNQdHtZe5z8-",
        "outputId": "747a314e-8503-490f-dbfc-1d5de652f3e6"
      },
      "source": [
        "print(2%5)"
      ],
      "execution_count": null,
      "outputs": [
        {
          "output_type": "stream",
          "text": [
            "2\n"
          ],
          "name": "stdout"
        }
      ]
    },
    {
      "cell_type": "markdown",
      "metadata": {
        "id": "OwWUxBUU8EHs"
      },
      "source": [
        "**OPERADORES DE COMPARACION**\n",
        "\n",
        "\n",
        "\n",
        "---\n",
        "\n",
        "Los operadores de comparacion sirven para comparar varios valores "
      ]
    },
    {
      "cell_type": "markdown",
      "metadata": {
        "id": "HpJvl-wD872t"
      },
      "source": [
        "**Igualdad:**\n",
        "\n",
        "Simbolo es Python es (==)\n"
      ]
    },
    {
      "cell_type": "code",
      "metadata": {
        "colab": {
          "base_uri": "https://localhost:8080/"
        },
        "id": "n4HjNmLx9CNS",
        "outputId": "84841e71-6cc3-4f1e-93df-f6996d34cb71"
      },
      "source": [
        "x=30\n",
        "z=48\n",
        "print(x==z)"
      ],
      "execution_count": null,
      "outputs": [
        {
          "output_type": "stream",
          "text": [
            "False\n"
          ],
          "name": "stdout"
        }
      ]
    },
    {
      "cell_type": "code",
      "metadata": {
        "colab": {
          "base_uri": "https://localhost:8080/"
        },
        "id": "wLbhjx7D9O2w",
        "outputId": "89661691-5be2-4cb8-efc6-be1abace07b6"
      },
      "source": [
        "a=\"Heidy\"\n",
        "b=\"Juan\"\n",
        "print(a==b)"
      ],
      "execution_count": null,
      "outputs": [
        {
          "output_type": "stream",
          "text": [
            "False\n"
          ],
          "name": "stdout"
        }
      ]
    },
    {
      "cell_type": "markdown",
      "metadata": {
        "id": "e8dDKiEm_SWs"
      },
      "source": [
        "**Diferencia**\n",
        "\n",
        "a diferencia del operador igual, el simbolo esta combinado por el simbolo de admiracion (!=) \n",
        "Para decir que algo es difernete a otra cosa *texto en cursiva*"
      ]
    },
    {
      "cell_type": "code",
      "metadata": {
        "colab": {
          "base_uri": "https://localhost:8080/"
        },
        "id": "UmUxM52I_iaB",
        "outputId": "f849a7e4-c722-4d79-a0e1-31e9765a21e0"
      },
      "source": [
        "a=88\n",
        "B=88\n",
        "print(a!=B)"
      ],
      "execution_count": null,
      "outputs": [
        {
          "output_type": "stream",
          "text": [
            "False\n"
          ],
          "name": "stdout"
        }
      ]
    },
    {
      "cell_type": "markdown",
      "metadata": {
        "id": "GHs_uXgS_zlN"
      },
      "source": [
        "**Maryor que** \n",
        "\n",
        "Simbolo en Python  (>)\n",
        "\n",
        "Siempre en comparativa se desingna cual es menor o mayor; por el valor que esta a al izquierda de la operacion \n"
      ]
    },
    {
      "cell_type": "code",
      "metadata": {
        "colab": {
          "base_uri": "https://localhost:8080/"
        },
        "id": "QNADisOrAd1K",
        "outputId": "7207bc7b-47d7-4d48-ea77-6585965436bc"
      },
      "source": [
        "print(8>7)"
      ],
      "execution_count": null,
      "outputs": [
        {
          "output_type": "stream",
          "text": [
            "True\n"
          ],
          "name": "stdout"
        }
      ]
    },
    {
      "cell_type": "markdown",
      "metadata": {
        "id": "ca9l9TwfAuwz"
      },
      "source": [
        "**Menor que** \n",
        "\n",
        "\n",
        "izquierda a derecha \n",
        "(<)"
      ]
    },
    {
      "cell_type": "code",
      "metadata": {
        "colab": {
          "base_uri": "https://localhost:8080/"
        },
        "id": "Uj4XxW7LA4wi",
        "outputId": "f8a2656a-37ce-465b-fcaa-8b1a461f1ecd"
      },
      "source": [
        "a=8\n",
        "b=6\n",
        "print(a<b)"
      ],
      "execution_count": null,
      "outputs": [
        {
          "output_type": "stream",
          "text": [
            "False\n"
          ],
          "name": "stdout"
        }
      ]
    },
    {
      "cell_type": "markdown",
      "metadata": {
        "id": "9jQSkbZiA-np"
      },
      "source": [
        "**Mayor o Igual que** \n",
        "\n",
        "es similar al mayor que, con la difenrecia de que la forma en dara resultado si ambos numeros son iguales y flexibles dado verdadero de igual si el valor de la izquierda es maor que el de la derecha. El simbolo es (>=)"
      ]
    },
    {
      "cell_type": "code",
      "metadata": {
        "colab": {
          "base_uri": "https://localhost:8080/"
        },
        "id": "OO_R34iAB63E",
        "outputId": "8b07c3a3-4fb0-4633-c992-795309b78b04"
      },
      "source": [
        "x=12\n",
        "v=87\n",
        "print(x>=v)"
      ],
      "execution_count": null,
      "outputs": [
        {
          "output_type": "stream",
          "text": [
            "False\n"
          ],
          "name": "stdout"
        }
      ]
    },
    {
      "cell_type": "markdown",
      "metadata": {
        "id": "N59jatMXBe5s"
      },
      "source": [
        "**Menor o igual que **\n",
        "con el simbolo (<=)\n"
      ]
    },
    {
      "cell_type": "code",
      "metadata": {
        "colab": {
          "base_uri": "https://localhost:8080/"
        },
        "id": "vOrP6hXwCC-B",
        "outputId": "fbdd8e7b-454a-45f9-ba7f-8e90c68e887e"
      },
      "source": [
        "x=45\n",
        "print(x<=46)"
      ],
      "execution_count": null,
      "outputs": [
        {
          "output_type": "stream",
          "text": [
            "True\n"
          ],
          "name": "stdout"
        }
      ]
    },
    {
      "cell_type": "markdown",
      "metadata": {
        "id": "9QT4Bf_Eh2EK"
      },
      "source": [
        "Tener en cuenta: En comparacion los resultados que nos arrojan siempre es de tipo Booleano es decir: True o Flase"
      ]
    },
    {
      "cell_type": "markdown",
      "metadata": {
        "id": "NaAvcbh5Coao"
      },
      "source": [
        "\n",
        "\n",
        "**Operadores Logicos**\n",
        "\n",
        "\n",
        "\n",
        "---\n",
        "Python incluye tres operadores logicos base:\n",
        " 1. AND (Y)\n",
        " 2. OR (O)\n",
        " 3. NOT (No)\n",
        "\n",
        " Los operadores logicos funcionan solo con variables booleanos, a su vez devuelven como respuesta valores booleanos \n",
        " \n",
        " \n"
      ]
    },
    {
      "cell_type": "markdown",
      "metadata": {
        "id": "ya_nBakyDGPh"
      },
      "source": [
        "**Operador AND**\n",
        "\n",
        "\n",
        "\n",
        "---\n",
        "**Este operador soLo delvolvera (Verdadero) si ambos valores lo son.**\n",
        "\n",
        "¿Como usarlo?\n",
        "\n",
        "Para usar este operador basta con escribir un valor Booleano, luego la panabra and y por ultimo otro valor booleano, (\n"
      ]
    },
    {
      "cell_type": "code",
      "metadata": {
        "colab": {
          "base_uri": "https://localhost:8080/"
        },
        "id": "iytGWB1yD7hV",
        "outputId": "98797ff1-77c6-4e0a-ef9a-bcd9f3d512da"
      },
      "source": [
        "print(True and False)"
      ],
      "execution_count": null,
      "outputs": [
        {
          "output_type": "stream",
          "text": [
            "False\n"
          ],
          "name": "stdout"
        }
      ]
    },
    {
      "cell_type": "markdown",
      "metadata": {
        "id": "0OQ_6wMQEDo4"
      },
      "source": [
        "True and True = True \n",
        "True and False = Fslse\n",
        "False and False = False\n",
        "False and True = False \n",
        "\n"
      ]
    }
  ]
}