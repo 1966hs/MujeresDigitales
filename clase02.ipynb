{
  "nbformat": 4,
  "nbformat_minor": 0,
  "metadata": {
    "colab": {
      "name": "clase02.ipynb",
      "provenance": [],
      "authorship_tag": "ABX9TyNpFUDt9JsW2W244TxAH+Rs",
      "include_colab_link": true
    },
    "kernelspec": {
      "name": "python3",
      "display_name": "Python 3"
    },
    "language_info": {
      "name": "python"
    }
  },
  "cells": [
    {
      "cell_type": "markdown",
      "metadata": {
        "id": "view-in-github",
        "colab_type": "text"
      },
      "source": [
        "<a href=\"https://colab.research.google.com/github/1966hs/MujeresDigitales/blob/main/clase02.ipynb\" target=\"_parent\"><img src=\"https://colab.research.google.com/assets/colab-badge.svg\" alt=\"Open In Colab\"/></a>"
      ]
    },
    {
      "cell_type": "markdown",
      "metadata": {
        "id": "A5se53GwvCLs"
      },
      "source": [
        "***Operadores Matematicos ***\n",
        "\n",
        "---\n",
        "\n",
        "los operadores permiten realizar diferentes procesos de calculo en cualuiqer lenguaje de programacion\n",
        "\n",
        "1. Suma \n",
        "2. Resta \n",
        "3. Multiplicacion\n",
        "4. Division\n",
        "5. Potenciacion\n",
        "6. Modulo\n"
      ]
    },
    {
      "cell_type": "markdown",
      "metadata": {
        "id": "RYDX9V2ov-Fe"
      },
      "source": [
        "**Suma:**\n",
        "\n",
        "\n",
        "\n",
        "\n",
        "Simbolo suma(+) el cual se utiliza en medio de la declaracion de las variables a operar \n"
      ]
    },
    {
      "cell_type": "code",
      "metadata": {
        "colab": {
          "base_uri": "https://localhost:8080/"
        },
        "id": "HPcDDHaQwVZr",
        "outputId": "59ff6d03-bdc0-4b78-abd2-4b295ae2f37c"
      },
      "source": [
        "print(23+989) #directamente\n",
        "a=23  #declarando las variables \n",
        "b=668\n",
        "print(a+b)"
      ],
      "execution_count": null,
      "outputs": [
        {
          "output_type": "stream",
          "text": [
            "1012\n",
            "691\n"
          ],
          "name": "stdout"
        }
      ]
    },
    {
      "cell_type": "code",
      "metadata": {
        "colab": {
          "base_uri": "https://localhost:8080/"
        },
        "id": "qND1iIhdw176",
        "outputId": "cd9329d9-615f-47d6-ecb0-43265ef43916"
      },
      "source": [
        "numero_casas=23\n",
        "print(numero_casas + 87) \n",
        "numero_casas=numero_casas + 12  #conteo continuo \n",
        "print(numero_casas) "
      ],
      "execution_count": null,
      "outputs": [
        {
          "output_type": "stream",
          "text": [
            "110\n",
            "35\n"
          ],
          "name": "stdout"
        }
      ]
    },
    {
      "cell_type": "markdown",
      "metadata": {
        "id": "WCMoW_YNZGYX"
      },
      "source": [
        "**Suma entre los diferentes tipos de variables**\n",
        "\n",
        "\n",
        "\n",
        "---\n",
        "1. Declaracion de variables numericas enteras\n",
        "2. Flotantes ( incorpra y flexibiliza laa los decimales \n",
        "3. Tipo cadena\n",
        "\n",
        "\n",
        "*Entre un entero y un flotante el tipo de dato que predomina es el flotante (tanto para suma y para resta*\n"
      ]
    },
    {
      "cell_type": "code",
      "metadata": {
        "colab": {
          "base_uri": "https://localhost:8080/"
        },
        "id": "xZ40weLAyNmM",
        "outputId": "af473407-8422-417c-88be-8530aef3dcf3"
      },
      "source": [
        "q1=23\n",
        "q2=34.8\n",
        "print(q1+q2)\n",
        "print(type(q1+q2))  #Type((para que me muestre el tipo de dato que estoy usando ))"
      ],
      "execution_count": null,
      "outputs": [
        {
          "output_type": "stream",
          "text": [
            "57.8\n",
            "<class 'float'>\n"
          ],
          "name": "stdout"
        }
      ]
    },
    {
      "cell_type": "code",
      "metadata": {
        "colab": {
          "base_uri": "https://localhost:8080/"
        },
        "id": "gXls4A5tapxO",
        "outputId": "169727ef-2d99-4f51-d1cc-c3de864b54ae"
      },
      "source": [
        "v1=\"quiero\"\n",
        "v2=\"un celular\"\n",
        "print(v1,v2)"
      ],
      "execution_count": null,
      "outputs": [
        {
          "output_type": "stream",
          "text": [
            "quiero un celular\n"
          ],
          "name": "stdout"
        }
      ]
    },
    {
      "cell_type": "markdown",
      "metadata": {
        "id": "UuwUujmMTjVy"
      },
      "source": [
        "**Resta**\n",
        "\n",
        "Simbolo resta(-) el cual se utiliza en medio de la declaracion de las variables a operar \n"
      ]
    },
    {
      "cell_type": "code",
      "metadata": {
        "id": "8oGSz_WYyOFJ",
        "colab": {
          "base_uri": "https://localhost:8080/"
        },
        "outputId": "b0b626e1-a592-446e-c831-0b1d564ff4a3"
      },
      "source": [
        "xq2=345\n",
        "xq3=35\n",
        "print(xq2-xq3)\n",
        "\n",
        "xq2=345.99\n",
        "xq3=35\n",
        "print(xq2-xq3)"
      ],
      "execution_count": null,
      "outputs": [
        {
          "output_type": "stream",
          "text": [
            "310\n",
            "310.99\n"
          ],
          "name": "stdout"
        }
      ]
    },
    {
      "cell_type": "markdown",
      "metadata": {
        "id": "dcJY65OabtGu"
      },
      "source": [
        "**Importante La resta no funciona directamente para variables tipo cadena**"
      ]
    },
    {
      "cell_type": "markdown",
      "metadata": {
        "id": "MwXU6V1n1Dwl"
      },
      "source": [
        "**Multiplicacion**\n",
        "\n",
        "Definamos la multiplicacion como la suma de varias veces un numero, cantidad de veces indicadas por el otro numero,  simbolo que se maneja es ( *)"
      ]
    },
    {
      "cell_type": "code",
      "metadata": {
        "colab": {
          "base_uri": "https://localhost:8080/"
        },
        "id": "6H42vdwVdFgA",
        "outputId": "ff8f83ee-889e-44c8-830c-e30109d0c208"
      },
      "source": [
        "cali=78\n",
        "palmiras=98\n",
        "print(cali*palmiras)"
      ],
      "execution_count": null,
      "outputs": [
        {
          "output_type": "stream",
          "text": [
            "7644\n"
          ],
          "name": "stdout"
        }
      ]
    },
    {
      "cell_type": "markdown",
      "metadata": {
        "id": "KItdHm-jdVdq"
      },
      "source": [
        "**Importante, se aplica la ley conmutativa**\n",
        "\n",
        "La ley conmutativa es el orden de los valores no altera el resulltado ( Aplica para suma y multiplicacion)"
      ]
    },
    {
      "cell_type": "markdown",
      "metadata": {
        "id": "4lJqhVEIfJ0a"
      },
      "source": [
        "  **Division**\n",
        "\n",
        "\n",
        "\n",
        "---\n",
        "\n",
        "**No** aplica la ley conmutativa, y el simbolo de dision es (/)"
      ]
    },
    {
      "cell_type": "code",
      "metadata": {
        "id": "OTnG390eftkt"
      },
      "source": [
        "a=7\n",
        "b=8\n",
        "print(a/b, b/a)"
      ],
      "execution_count": null,
      "outputs": []
    },
    {
      "cell_type": "markdown",
      "metadata": {
        "id": "U0i_3tlM29w5"
      },
      "source": [
        "**Tipos de Division**\n",
        "\n",
        "\n",
        "---\n",
        "\n",
        "1. Division exacta (/) *el residuo queda ahi en la operacion*\n",
        "2. Division Inexacta (//) *muestra solo el residuo en numero entero*\n",
        "\n",
        "\n",
        "\n"
      ]
    },
    {
      "cell_type": "code",
      "metadata": {
        "colab": {
          "base_uri": "https://localhost:8080/"
        },
        "id": "XOyZAen43U6O",
        "outputId": "7aa39bdb-ec93-4845-8327-fca0a988a30f"
      },
      "source": [
        "\n",
        "print(14/3)\n",
        "print(14//3)"
      ],
      "execution_count": null,
      "outputs": [
        {
          "output_type": "stream",
          "text": [
            "4.666666666666667\n",
            "4\n"
          ],
          "name": "stdout"
        }
      ]
    },
    {
      "cell_type": "markdown",
      "metadata": {
        "id": "0iF2sy1bewEe"
      },
      "source": [
        "Para **Print** podemos separar las operaciones por variables con (,) Lo cual, no afecta la impresion de los resultados por operacion signada \n"
      ]
    },
    {
      "cell_type": "markdown",
      "metadata": {
        "id": "QWS9lnTd3i0r"
      },
      "source": [
        "Nota : Operacion de division, al igual que una division normal, **No es posible dividir entre cero. ¿Por que? Por que es matematicas es un resultado indefinido.\n",
        "\n",
        "\n",
        "\n"
      ]
    },
    {
      "cell_type": "markdown",
      "metadata": {
        "id": "ixU4lMiC4iiA"
      },
      "source": [
        "**Potenciacion** \n",
        "\n",
        "En Python el simbolo es (**) \n",
        "\n",
        "El primer valor es la base y el ultimo valor es el exponente \n",
        "\n"
      ]
    },
    {
      "cell_type": "code",
      "metadata": {
        "colab": {
          "base_uri": "https://localhost:8080/"
        },
        "id": "uFnOc3aD4wKv",
        "outputId": "c02d8472-dfe9-4f0a-b601-4bce22a5161b"
      },
      "source": [
        "print(2**6)"
      ],
      "execution_count": null,
      "outputs": [
        {
          "output_type": "stream",
          "text": [
            "64\n"
          ],
          "name": "stdout"
        }
      ]
    },
    {
      "cell_type": "markdown",
      "metadata": {
        "id": "Pt5KLnVd5Fn7"
      },
      "source": [
        "**Modulo**\n",
        "\n",
        "La llamamos modulo al residuo de la operacion de division. El simbolo para mostrar el residuo es (%) El primer valor es el diviviendo y el ultimo valor es de divisor \n",
        "\n"
      ]
    },
    {
      "cell_type": "code",
      "metadata": {
        "colab": {
          "base_uri": "https://localhost:8080/"
        },
        "id": "YNQdHtZe5z8-",
        "outputId": "747a314e-8503-490f-dbfc-1d5de652f3e6"
      },
      "source": [
        "print(2%5)"
      ],
      "execution_count": null,
      "outputs": [
        {
          "output_type": "stream",
          "text": [
            "2\n"
          ],
          "name": "stdout"
        }
      ]
    },
    {
      "cell_type": "markdown",
      "metadata": {
        "id": "OwWUxBUU8EHs"
      },
      "source": [
        "**OPERADORES DE COMPARACION**\n",
        "\n",
        "\n",
        "\n",
        "---\n",
        "\n",
        "Los operadores de comparacion sirven para comparar varios valores "
      ]
    },
    {
      "cell_type": "markdown",
      "metadata": {
        "id": "HpJvl-wD872t"
      },
      "source": [
        "**Igualdad:**\n",
        "\n",
        "Simbolo es Python es (==)\n"
      ]
    },
    {
      "cell_type": "code",
      "metadata": {
        "colab": {
          "base_uri": "https://localhost:8080/"
        },
        "id": "n4HjNmLx9CNS",
        "outputId": "84841e71-6cc3-4f1e-93df-f6996d34cb71"
      },
      "source": [
        "x=30\n",
        "z=48\n",
        "print(x==z)"
      ],
      "execution_count": null,
      "outputs": [
        {
          "output_type": "stream",
          "text": [
            "False\n"
          ],
          "name": "stdout"
        }
      ]
    },
    {
      "cell_type": "code",
      "metadata": {
        "colab": {
          "base_uri": "https://localhost:8080/"
        },
        "id": "wLbhjx7D9O2w",
        "outputId": "89661691-5be2-4cb8-efc6-be1abace07b6"
      },
      "source": [
        "a=\"Heidy\"\n",
        "b=\"David\"\n",
        "print(a==b)"
      ],
      "execution_count": null,
      "outputs": [
        {
          "output_type": "stream",
          "text": [
            "False\n"
          ],
          "name": "stdout"
        }
      ]
    },
    {
      "cell_type": "markdown",
      "metadata": {
        "id": "e8dDKiEm_SWs"
      },
      "source": [
        "**Diferencia**\n",
        "\n",
        "a diferencia del operador igual, el simbolo esta combinado por el simbolo de admiracion (!=) \n",
        "Para decir que algo es difernete a otra cosa *texto en cursiva*"
      ]
    },
    {
      "cell_type": "code",
      "metadata": {
        "colab": {
          "base_uri": "https://localhost:8080/"
        },
        "id": "UmUxM52I_iaB",
        "outputId": "f849a7e4-c722-4d79-a0e1-31e9765a21e0"
      },
      "source": [
        "a=88\n",
        "B=88\n",
        "print(a!=B)"
      ],
      "execution_count": null,
      "outputs": [
        {
          "output_type": "stream",
          "text": [
            "False\n"
          ],
          "name": "stdout"
        }
      ]
    },
    {
      "cell_type": "markdown",
      "metadata": {
        "id": "GHs_uXgS_zlN"
      },
      "source": [
        "**Mayor que** \n",
        "\n",
        "Simbolo en Python  (>)\n",
        "\n",
        "*Siempre en comparativa se desingna cual es menor o mayor; por el valor que esta a al izquierda de la operacion*\n",
        "\n",
        "*Muestra valores booleanos*\n",
        "\n",
        "Nota:\n",
        "**Se lee de izquierda a derecha en todas la operaciones que realicemos**"
      ]
    },
    {
      "cell_type": "code",
      "metadata": {
        "colab": {
          "base_uri": "https://localhost:8080/"
        },
        "id": "QNADisOrAd1K",
        "outputId": "7207bc7b-47d7-4d48-ea77-6585965436bc"
      },
      "source": [
        "print(8>7)"
      ],
      "execution_count": null,
      "outputs": [
        {
          "output_type": "stream",
          "text": [
            "True\n"
          ],
          "name": "stdout"
        }
      ]
    },
    {
      "cell_type": "markdown",
      "metadata": {
        "id": "ca9l9TwfAuwz"
      },
      "source": [
        "**Menor que** \n",
        "\n",
        "\n",
        "izquierda a derecha \n",
        "(<)"
      ]
    },
    {
      "cell_type": "code",
      "metadata": {
        "colab": {
          "base_uri": "https://localhost:8080/"
        },
        "id": "Uj4XxW7LA4wi",
        "outputId": "f8a2656a-37ce-465b-fcaa-8b1a461f1ecd"
      },
      "source": [
        "a=8\n",
        "b=6\n",
        "print(a<b)"
      ],
      "execution_count": null,
      "outputs": [
        {
          "output_type": "stream",
          "text": [
            "False\n"
          ],
          "name": "stdout"
        }
      ]
    },
    {
      "cell_type": "markdown",
      "metadata": {
        "id": "9jQSkbZiA-np"
      },
      "source": [
        "**Mayor o Igual que** \n",
        "\n",
        "es similar al mayor que, con la diferencia de que la forma en dara resultado si ambos numeros son iguales y flexibles dado verdadero de igual si el valor de la izquierda es maor que el de la derecha. El simbolo es (>=)"
      ]
    },
    {
      "cell_type": "code",
      "metadata": {
        "colab": {
          "base_uri": "https://localhost:8080/"
        },
        "id": "OO_R34iAB63E",
        "outputId": "8b07c3a3-4fb0-4633-c992-795309b78b04"
      },
      "source": [
        "x=12\n",
        "v=87\n",
        "print(x>=v)"
      ],
      "execution_count": null,
      "outputs": [
        {
          "output_type": "stream",
          "text": [
            "False\n"
          ],
          "name": "stdout"
        }
      ]
    },
    {
      "cell_type": "markdown",
      "metadata": {
        "id": "N59jatMXBe5s"
      },
      "source": [
        "**Menor o igual que**\n",
        "\n",
        "con el simbolo (<=)\n"
      ]
    },
    {
      "cell_type": "code",
      "metadata": {
        "colab": {
          "base_uri": "https://localhost:8080/"
        },
        "id": "vOrP6hXwCC-B",
        "outputId": "fbdd8e7b-454a-45f9-ba7f-8e90c68e887e"
      },
      "source": [
        "x=45\n",
        "print(x<=46)"
      ],
      "execution_count": null,
      "outputs": [
        {
          "output_type": "stream",
          "text": [
            "True\n"
          ],
          "name": "stdout"
        }
      ]
    },
    {
      "cell_type": "markdown",
      "metadata": {
        "id": "9QT4Bf_Eh2EK"
      },
      "source": [
        "Tener en cuenta: En comparacion los resultados que nos arrojan siempre es de tipo Booleano es decir: True o Flase"
      ]
    },
    {
      "cell_type": "markdown",
      "metadata": {
        "id": "NaAvcbh5Coao"
      },
      "source": [
        "\n",
        "\n",
        "**Operadores Logicos**\n",
        "\n",
        "\n",
        "\n",
        "---\n",
        "Python incluye tres operadores logicos base:\n",
        " 1. AND (Y)\n",
        " 2. OR (O)\n",
        " 3. NOT (No)\n",
        "\n",
        " Los operadores logicos funcionan solo con variables booleanos, a su vez devuelven como respuesta valores booleanos \n",
        " \n",
        " \n"
      ]
    },
    {
      "cell_type": "markdown",
      "metadata": {
        "id": "ya_nBakyDGPh"
      },
      "source": [
        "**Operador AND (Y)**\n",
        "\n",
        "\n",
        "\n",
        "---\n",
        "**Este operador solo delvolvera (Verdadero) si ambos valores lo son.**\n",
        "\n",
        "¿Como usarlo?\n",
        "\n",
        "Para usar este operador basta con escribir un valor Booleano, luego la palabra **and** y por ultimo otro valor booleano, \n"
      ]
    },
    {
      "cell_type": "code",
      "metadata": {
        "colab": {
          "base_uri": "https://localhost:8080/"
        },
        "id": "iytGWB1yD7hV",
        "outputId": "98797ff1-77c6-4e0a-ef9a-bcd9f3d512da"
      },
      "source": [
        "print(True and False)"
      ],
      "execution_count": null,
      "outputs": [
        {
          "output_type": "stream",
          "text": [
            "False\n"
          ],
          "name": "stdout"
        }
      ]
    },
    {
      "cell_type": "markdown",
      "metadata": {
        "id": "0OQ_6wMQEDo4"
      },
      "source": [
        "\n",
        "**True and True = True** \n",
        "\n",
        "True and False = False\n",
        "\n",
        "False and False = False\n",
        "\n",
        "False and True = False \n",
        "\n"
      ]
    },
    {
      "cell_type": "markdown",
      "metadata": {
        "id": "DD0IJCkxwMwI"
      },
      "source": [
        "**Operador OR (O)**\n",
        "\n",
        "\n",
        "---\n",
        "*Al menos uno debe ser verdadero para cumplir si los dos son falsos el resultado es false*\n",
        "\n",
        "OR devuelve a todo verdadero . a menos que ambos valores sean Falsos \n"
      ]
    },
    {
      "cell_type": "code",
      "metadata": {
        "colab": {
          "base_uri": "https://localhost:8080/"
        },
        "id": "XVOQHqCKyt7F",
        "outputId": "cc1bc7ec-c0c0-4600-e348-9ae312179dd2"
      },
      "source": [
        "print(True or False)"
      ],
      "execution_count": 8,
      "outputs": [
        {
          "output_type": "stream",
          "text": [
            "True\n"
          ],
          "name": "stdout"
        }
      ]
    },
    {
      "cell_type": "markdown",
      "metadata": {
        "id": "21CPspzQy4J7"
      },
      "source": [
        "True or True = True \n",
        "\n",
        "True or False = True\n",
        "\n",
        "False or True = True\n",
        "\n",
        "**False or False = False**"
      ]
    },
    {
      "cell_type": "code",
      "metadata": {
        "colab": {
          "base_uri": "https://localhost:8080/"
        },
        "id": "FfLM0Lkw3QJQ",
        "outputId": "d5681b30-3b02-41f0-8c81-cdabc76f960b"
      },
      "source": [
        "a=3\n",
        "b=2\n",
        "print(a>4 or a==4)\n",
        "print(b==b and a>=b)"
      ],
      "execution_count": 10,
      "outputs": [
        {
          "output_type": "stream",
          "text": [
            "False\n",
            "True\n"
          ],
          "name": "stdout"
        }
      ]
    },
    {
      "cell_type": "markdown",
      "metadata": {
        "id": "UIHzeHjZ4rVd"
      },
      "source": [
        "**Operador NOT (NO)\n",
        "\n",
        "\n",
        "\n",
        "---\n",
        "Nos permite negar una parte de la opercion \n",
        "\n",
        "es especial por que por si solo no sirve para hacer niguna operacion, lo que hace es negar, inivierte el valor booleano que viene despues de el\n",
        "\n",
        "\n"
      ]
    },
    {
      "cell_type": "code",
      "metadata": {
        "colab": {
          "base_uri": "https://localhost:8080/"
        },
        "id": "jkxb4I135cHS",
        "outputId": "ccac3797-83a1-4dda-f505-77c63f3668f7"
      },
      "source": [
        "print(not True)\n",
        "print(not False)"
      ],
      "execution_count": 12,
      "outputs": [
        {
          "output_type": "stream",
          "text": [
            "False\n",
            "True\n"
          ],
          "name": "stdout"
        }
      ]
    },
    {
      "cell_type": "markdown",
      "metadata": {
        "id": "7V6E-OKQ6xMj"
      },
      "source": [
        "**PRECEDENCIA DE OPERADORES**\n",
        "\n",
        "\n",
        "---\n",
        "Es muy imporntante el orden de las operaciones: \n",
        "\n",
        "1. De izquierda a derecha \n",
        "2. Parentesis \n",
        "3. Potenciacion o radicacion \n",
        "4. Multiplicacion y division \n",
        "5. La suma y la resta \n",
        "\n",
        "Ejemplo:\n",
        "\n",
        "4-2(10)\n",
        "\n",
        "1. Primero los parentesis \n",
        "\n",
        "4-2*10\n",
        "\n",
        "2. Se continua con la multiplicacion\n",
        "\n",
        "4-20\n",
        "\n",
        "3. Por ultimo la resta\n",
        "\n",
        "4-20=-16 \n",
        "\n",
        "¿Cual crees que es el resultado de esta operacion?:"
      ]
    },
    {
      "cell_type": "code",
      "metadata": {
        "colab": {
          "base_uri": "https://localhost:8080/"
        },
        "id": "sUP5fc298gbN",
        "outputId": "0cfb1c0b-7a35-4d81-de57-962b27f5364e"
      },
      "source": [
        "a=False\n",
        "b=True \n",
        "c=True \n",
        "print( not c and (a or b ))"
      ],
      "execution_count": 13,
      "outputs": [
        {
          "output_type": "stream",
          "text": [
            "False\n"
          ],
          "name": "stdout"
        }
      ]
    },
    {
      "cell_type": "code",
      "metadata": {
        "colab": {
          "base_uri": "https://localhost:8080/"
        },
        "id": "xuwwROcw8239",
        "outputId": "da3831c2-1224-474c-e6b0-61c7774c4ab2"
      },
      "source": [
        "print(3-2*(13-5))"
      ],
      "execution_count": 14,
      "outputs": [
        {
          "output_type": "stream",
          "text": [
            "-13\n"
          ],
          "name": "stdout"
        }
      ]
    },
    {
      "cell_type": "markdown",
      "metadata": {
        "id": "8SVIqyNN9coD"
      },
      "source": [
        "**RESUMEN**\n",
        "\n",
        "1. Aplicacion de la ley conmutativa: solo para suma y resta (Operadores basicos)\n",
        "2. Los resultados con operados logicos son tipo booleano\n",
        "3. **No** se puede realizar resta entre variables de tipo cadena ( El procedimiento si abarca numeros es la conversion desde el inicio).\n",
        "4. Si aplicamos el condicional AND, para el que el resultadi sea TRUE, la unica forma es que ambos resultados sean verdaderos \n",
        "5. Con el OR, si cumple asi sea 1 de los dos valores a verdadero el resultado sera TRUE \n"
      ]
    },
    {
      "cell_type": "markdown",
      "metadata": {
        "id": "wyJJNuRVApaU"
      },
      "source": [
        "\n",
        "\n",
        "---\n",
        "\n",
        "**EJERCICIOS CLASE 02**\n",
        "\n",
        "---\n",
        "\n"
      ]
    },
    {
      "cell_type": "code",
      "metadata": {
        "colab": {
          "base_uri": "https://localhost:8080/"
        },
        "id": "F9IEuM7IFrZT",
        "outputId": "b2a3acb8-a6ec-4976-b55d-2af168afdad9"
      },
      "source": [
        "a=True \n",
        "b=False\n",
        "c=True \n",
        "print( not b and c )\n",
        "print(a==c and a!=b)"
      ],
      "execution_count": 8,
      "outputs": [
        {
          "output_type": "stream",
          "text": [
            "True\n",
            "True\n"
          ],
          "name": "stdout"
        }
      ]
    },
    {
      "cell_type": "code",
      "metadata": {
        "colab": {
          "base_uri": "https://localhost:8080/"
        },
        "id": "-QfrzuQ9Tjxm",
        "outputId": "d8f8a082-5eef-478e-8aa2-aec18b4552f7"
      },
      "source": [
        "a=26\n",
        "b=30\n",
        "c=56\n",
        "d=a+b\n",
        "print(c==d and a!=b)\n",
        "\n"
      ],
      "execution_count": 2,
      "outputs": [
        {
          "output_type": "stream",
          "text": [
            "True\n"
          ],
          "name": "stdout"
        }
      ]
    },
    {
      "cell_type": "code",
      "metadata": {
        "colab": {
          "base_uri": "https://localhost:8080/"
        },
        "id": "pf4buVq4VCXk",
        "outputId": "e152f393-acbe-423a-cb82-63fa9847dac9"
      },
      "source": [
        "q1=34\n",
        "q2=56\n",
        "q3=q1+q2\n",
        "print(q3)\n",
        "print(q3>=q1 or q1<=21) \n",
        "print(q3==90 and q1==q2) "
      ],
      "execution_count": 5,
      "outputs": [
        {
          "output_type": "stream",
          "text": [
            "90\n",
            "True\n",
            "False\n"
          ],
          "name": "stdout"
        }
      ]
    },
    {
      "cell_type": "code",
      "metadata": {
        "colab": {
          "base_uri": "https://localhost:8080/"
        },
        "id": "dLp2KBgrWG0q",
        "outputId": "64314574-19d3-4907-f80c-8aaf7dbeb67b"
      },
      "source": [
        "hola=23\n",
        "casa=34\n",
        "w3=55\n",
        "print(w3==casa or w3==hola )"
      ],
      "execution_count": 7,
      "outputs": [
        {
          "output_type": "stream",
          "text": [
            "False\n"
          ],
          "name": "stdout"
        }
      ]
    },
    {
      "cell_type": "code",
      "metadata": {
        "colab": {
          "base_uri": "https://localhost:8080/"
        },
        "id": "WL-7otvXW40k",
        "outputId": "f4e553a6-a95c-4051-e2cb-33a607cabc17"
      },
      "source": [
        "w1=True\n",
        "w2=False\n",
        "w3=False\n",
        "print( w1==w2 )\n",
        "w1=False\n",
        "print(w2==w1 and (w3==False) )\n"
      ],
      "execution_count": 10,
      "outputs": [
        {
          "output_type": "stream",
          "text": [
            "False\n",
            "True\n"
          ],
          "name": "stdout"
        }
      ]
    }
  ]
}