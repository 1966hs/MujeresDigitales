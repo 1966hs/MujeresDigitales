{
  "nbformat": 4,
  "nbformat_minor": 0,
  "metadata": {
    "colab": {
      "name": "clase07.ipynb",
      "provenance": [],
      "authorship_tag": "ABX9TyPavA6Gk+K//bYq2BZE4Va1",
      "include_colab_link": true
    },
    "kernelspec": {
      "name": "python3",
      "display_name": "Python 3"
    },
    "language_info": {
      "name": "python"
    }
  },
  "cells": [
    {
      "cell_type": "markdown",
      "metadata": {
        "id": "view-in-github",
        "colab_type": "text"
      },
      "source": [
        "<a href=\"https://colab.research.google.com/github/1966hs/MujeresDigitales/blob/main/clase07.ipynb\" target=\"_parent\"><img src=\"https://colab.research.google.com/assets/colab-badge.svg\" alt=\"Open In Colab\"/></a>"
      ]
    },
    {
      "cell_type": "markdown",
      "metadata": {
        "id": "7PgjYjDDzOCZ"
      },
      "source": [
        "**Continuacion de funciones**\n",
        "\n",
        "\n",
        "---\n",
        "\n",
        "\n",
        "\n",
        "\n"
      ]
    },
    {
      "cell_type": "code",
      "metadata": {
        "id": "UQH5A3h9zfbf"
      },
      "source": [
        "\n",
        "##Recordemos el ejercicio de la clase pasada:\n",
        "me permite ingresar la canitdad de argumentos\n",
        "\n"
      ],
      "execution_count": null,
      "outputs": []
    },
    {
      "cell_type": "markdown",
      "metadata": {
        "id": "FLIUEDja2cbW"
      },
      "source": [
        "El uso de ** : \n",
        "El uso del doble * nos permite tener  como parametro de entrada una lista de elementos en forma de clave y valor. \n",
        "La forma de iterar sera usando el comando *item()*"
      ]
    },
    {
      "cell_type": "code",
      "metadata": {
        "colab": {
          "base_uri": "https://localhost:8080/"
        },
        "id": "UKI-51-y218c",
        "outputId": "90bc55a6-43b6-43a2-b544-8d50f00b2ae7"
      },
      "source": [
        "def suma(**dado):\n",
        "  suma=0;\n",
        "  for i, j in dado.items():\n",
        "    suma +=j\n",
        "  return suma\n",
        "suma(a=3,b=30,c=7) #reconozca valores indefinids mente sin forma de tupla ni "
      ],
      "execution_count": 2,
      "outputs": [
        {
          "output_type": "execute_result",
          "data": {
            "text/plain": [
              "40"
            ]
          },
          "metadata": {
            "tags": []
          },
          "execution_count": 2
        }
      ]
    },
    {
      "cell_type": "markdown",
      "metadata": {
        "id": "WHgQnUBC385v"
      },
      "source": [
        "**Ampliemos la definicion del comando Return**\n",
        "\n",
        "\n",
        "---\n",
        "1. Devolver parametros.\n",
        "lo que yo impoga despues de return\n",
        "\n",
        "\n"
      ]
    },
    {
      "cell_type": "code",
      "metadata": {
        "colab": {
          "base_uri": "https://localhost:8080/",
          "height": 35
        },
        "id": "j8zpv9_f4Tq0",
        "outputId": "83bd0747-79ee-4188-9ac0-630b20236bde"
      },
      "source": [
        "def w():\n",
        "  return \"Hi Mundo\"\n",
        "w()"
      ],
      "execution_count": 3,
      "outputs": [
        {
          "output_type": "execute_result",
          "data": {
            "application/vnd.google.colaboratory.intrinsic+json": {
              "type": "string"
            },
            "text/plain": [
              "'Hi Mundo'"
            ]
          },
          "metadata": {
            "tags": []
          },
          "execution_count": 3
        }
      ]
    },
    {
      "cell_type": "markdown",
      "metadata": {
        "id": "h5CnnfWR4n9M"
      },
      "source": [
        "2. Devolver varias variables "
      ]
    },
    {
      "cell_type": "code",
      "metadata": {
        "colab": {
          "base_uri": "https://localhost:8080/"
        },
        "id": "TjtteBPB4wm-",
        "outputId": "3c74d2ad-febf-4e48-9e3a-94b8794213bb"
      },
      "source": [
        "def sd(a,b,c):\n",
        "  q=a+b+c #Declaracion de variables con una suma de argumentos\n",
        "  z=q/3 #Declaracion de variables con el promedio \n",
        "  return q,z\n",
        "q ,z=sd(2,4,6)\n",
        "print(q)\n",
        "print(z)"
      ],
      "execution_count": 6,
      "outputs": [
        {
          "output_type": "stream",
          "text": [
            "12\n",
            "4.0\n"
          ],
          "name": "stdout"
        }
      ]
    },
    {
      "cell_type": "markdown",
      "metadata": {
        "id": "cAHCWwdi5kVz"
      },
      "source": [
        "**Formas de hacer documentacion en programacion y por bloques de codigo o linea**\n",
        "\n",
        "\n",
        "---\n"
      ]
    },
    {
      "cell_type": "code",
      "metadata": {
        "colab": {
          "base_uri": "https://localhost:8080/"
        },
        "id": "FcdJgrmJ54j9",
        "outputId": "849ba84a-c2a0-4bf7-8108-23985e5cdf30"
      },
      "source": [
        "def paula(a,b):\n",
        "\n",
        "  \"\"\"\n",
        "  Descripcion de la funcion, los parametros que se van a usar, \n",
        "  explicar como se usa y que operaciones devuelve esta funcion \n",
        "  (docstring)\n",
        "  \"\"\"\n",
        "  return a+b\n",
        "paula(2,3)\n"
      ],
      "execution_count": 9,
      "outputs": [
        {
          "output_type": "execute_result",
          "data": {
            "text/plain": [
              "5"
            ]
          },
          "metadata": {
            "tags": []
          },
          "execution_count": 9
        }
      ]
    },
    {
      "cell_type": "code",
      "metadata": {
        "colab": {
          "base_uri": "https://localhost:8080/"
        },
        "id": "sV6gnYqW62cu",
        "outputId": "4c0f33d5-15dd-4390-e1b6-54e943c90984"
      },
      "source": [
        "help(paula)"
      ],
      "execution_count": 10,
      "outputs": [
        {
          "output_type": "stream",
          "text": [
            "Help on function paula in module __main__:\n",
            "\n",
            "paula(a, b)\n",
            "    Descripcion de la funcion, los parametros que se van a usar, \n",
            "    explicar como se usa y que operaciones devuelve esta funcion \n",
            "    (docstring)\n",
            "\n"
          ],
          "name": "stdout"
        }
      ]
    },
    {
      "cell_type": "code",
      "metadata": {
        "colab": {
          "base_uri": "https://localhost:8080/"
        },
        "id": "U1FszIT37OpO",
        "outputId": "1aef239a-8238-49ca-be54-57aa6f92784a"
      },
      "source": [
        "print(paula.__doc__) #Otra forma de llamar el comentario es: print del nombre de la funcion \n",
        " #funcion seguido de punto seguido, doble guion bajo, escribir \"doc\" y seguido soble guion bajo "
      ],
      "execution_count": 12,
      "outputs": [
        {
          "output_type": "stream",
          "text": [
            "\n",
            "  Descripcion de la funcion, los parametros que se van a usar, \n",
            "  explicar como se usa y que operaciones devuelve esta funcion \n",
            "  (docstring)\n",
            "  \n"
          ],
          "name": "stdout"
        }
      ]
    }
  ]
}