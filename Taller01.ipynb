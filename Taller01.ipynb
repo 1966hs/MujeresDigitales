{
  "nbformat": 4,
  "nbformat_minor": 0,
  "metadata": {
    "colab": {
      "name": "Taller01.ipynb",
      "provenance": [],
      "authorship_tag": "ABX9TyM00f4c3bSd+I8w/5bc/CnN",
      "include_colab_link": true
    },
    "kernelspec": {
      "name": "python3",
      "display_name": "Python 3"
    },
    "language_info": {
      "name": "python"
    }
  },
  "cells": [
    {
      "cell_type": "markdown",
      "metadata": {
        "id": "view-in-github",
        "colab_type": "text"
      },
      "source": [
        "<a href=\"https://colab.research.google.com/github/1966hs/MujeresDigitales/blob/main/Taller01.ipynb\" target=\"_parent\"><img src=\"https://colab.research.google.com/assets/colab-badge.svg\" alt=\"Open In Colab\"/></a>"
      ]
    },
    {
      "cell_type": "markdown",
      "metadata": {
        "id": "ZAiv2OACYvTf"
      },
      "source": [
        "\n",
        "**TALLER 1**\n",
        "\n",
        "\n",
        "---\n",
        "\n",
        "\n",
        "1. \n",
        "El Bootcamp comenzo el 26 de Julio del 2021, se les explico a las estudiantes que se les evaluaría de la siguiente forma:\n",
        "\n",
        "Tareas= 10%\n",
        "Talleres=25% \n",
        " Asistencia=5% \n",
        " Participación=15% \n",
        " Proyecto=45%\n",
        "\n",
        "teniendo en cuenta las ponderaciones de calificación del bootcamp, las estudiantes deciden desarrollar un programa que les permita saber cuanto tendría que sacar en el proyecto para tener una definitiva de 3.7 minimo en el curso. si las notas que llevan hasta el momento son las siguientes:\n",
        "\n",
        "Tareas=4.5\n",
        "\n",
        "Talleres=4 \n",
        "\n",
        " Asistencia=5\n",
        "\n",
        "Paticipación=4\n",
        "\n",
        "**¿Cuanto tendrían que sacar en el proyecto?**\n",
        "\n",
        "\n",
        "---\n",
        "\n",
        "\n",
        "2. \n",
        "La empresa VIVAFLY tiene como eslogan: \"Satisfacción y plenitud en un solo viaje\". Por lo cual, uno de los medios que utiliza VIVAFLY para mantener la satisfacción al cliente, es realizar rifas a lo largo del año para fomentar mayor unión y entendimiento. Para el mes de septiembre, por motivos de celebración de Amor y Amistad, la empresa decide sortear los siguientes viajes a los 5 clientes con más antigüedad:\n",
        "\n",
        "Viaje todo incluído para dos personas a San Andrés(Premio 1)\n",
        "un pasadía a los termales de San Vicente incluyendo almuerzo (Premio 2)\n",
        "Viaje todo incluido para dos personas a Santa Marta (Premio 3)\n",
        "Pasadía al desierto de Tatacoa (Sin incluír alimentación) (Premio 4)\n",
        "La empresa utilizará para el sorteo el método de balotera. A continuación se menciona el color ganador por premio:\n",
        "\n",
        "Rosado= Premio 1\n",
        "\n",
        "Verde=Premio 2\n",
        "\n",
        "Azul=Premio 3\n",
        "\n",
        "Gris=Premio 4\n",
        "\n",
        "Roja=No hay premio\n",
        "\n",
        "La probabilidad de sacar una balota rosada es del 15%, verde 20%, azul 5%, gris 20% y roja 40%.\n",
        "\n",
        "Adicionalmente, para las personas que SI obtengan premio, recibirán un bono en efectivo del porcentaje que represente la probabilidad de ganar con cada balota sobre un valor de 1.000.000 pesos. Sin embargo, se debe tener en cuenta que, Si al aplicar el porcentaje arroja un valor inferior a 120.000, no se les dará el bono en efectivo sino dos boletas de cine 4D para la película en estreno del mes incluyendo un solo combo de palomitas.Por otro lado, para la persona que saque balota roja obtendrá un premio de 120.000 pesos.\n",
        "\n",
        "Nota: El sorteo se realiza con el método de NO reemplazo. Es decir, la probabilidad de sacar cada una de las balotas es la misma para los 5 clientes. Porque a medida que vayan sacando las balotas ganadoras estás se regresan a la balotera y se mantendrá la misma cantidad de balotas.\n",
        "\n",
        "Teniendo en cuenta lo anterior.Se le pide a la analista que genere un código donde se pueda observar las respectivas premiaciones.\n",
        "\n",
        "las entradas deben ser las siguientes:\n",
        "\n",
        "Nombre de la concursante\n",
        "Color de balota\n",
        "Salida:\n",
        "\n",
        "Premio\n",
        "Enunciado de salida: \"La empresa VIVAFLY se complace en anunciar que La participante _ ganó _ en nuestro sorteo de viajes de AMOR y AMISTAD\"\n",
        "\n",
        "Ejemplo: \"La empresa VIVAFLY se complace en anunciar que La participante ANA ganó un pasadía a los termales de San Vicente en nuestro sorteo de viajes de AMOR y AMISTAD\""
      ]
    },
    {
      "cell_type": "code",
      "metadata": {
        "colab": {
          "base_uri": "https://localhost:8080/"
        },
        "id": "n4IDO8O-aBBA",
        "outputId": "4e9c8798-11fa-48df-f7e5-bf9283f1ddb9"
      },
      "source": [
        "tareas=4.5\n",
        "tareasp=0.1\n",
        "talleres=4\n",
        "talleresp=0.25\n",
        "asistencia=5\n",
        "asistenciap=5\n",
        "participacion=4\n",
        "participacionp=0.15\n",
        "defi=(tareas+talleres+asistencia+participacion)/5\n",
        "print(\"Sus notas por el momento son de:\", defi)\n",
        "\n",
        "print(\"Necesita un 1 de nota en su proyecto para pasar la mataria en 3.7\")\n",
        "\n"
      ],
      "execution_count": 25,
      "outputs": [
        {
          "output_type": "stream",
          "text": [
            "Sus notas por el momento son de: 3.5\n",
            "Necesita un 1 de nota en su proyecto para pasar la mataria en 3.7\n"
          ],
          "name": "stdout"
        }
      ]
    },
    {
      "cell_type": "code",
      "metadata": {
        "id": "YcxGGaCqqe-5"
      },
      "source": [
        "concursante=(input(\"Ingrese su nombre por favor:\"))\n",
        "(input(\"Ingrese el color de una boleta:\",premio ))\n",
        "\n",
        "if (premio==gris or premio==verde or premio==azul or premio==rosado):\n",
        "  print(\"recibirán un bono en efectivo del porcentaje que represente la probabilidad de ganar con cada balota\")\n",
        "    elif premio==gris:\n",
        "       plata float=1.000.000-0.20\n",
        "          if (plata<120.000):\n",
        "             print(\"dos boletas de cine 4D para la película en estreno del mes incluyendo un solo combo de palomitas\")\n",
        "             print(\"su premio en efectivo es de: \", plata)\n",
        "    elif premio==verde :\n",
        "     plata=1000000-0.20\n",
        "        if (plata<120.000):\n",
        "       print(\"dos boletas de cine 4D para la película en estreno del mes incluyendo un solo combo de palomitas\")\n",
        "       print(\"su premio en efectivo es de: \", plata)\n",
        "  elif premio==rosado :\n",
        "  plata=1000000-0.15\n",
        "    if (plata<120.000):\n",
        "      print(\"dos boletas de cine 4D para la película en estreno del mes incluyendo un solo combo de palomitas\")\n",
        "  print(\"su premio en efectivo es de: \", plata)\n",
        "  elif premio==azul :\n",
        "  plata=1000000-0.5\n",
        "   if (plata<120.000):\n",
        "     print(\"dos boletas de cine 4D para la película en estreno del mes incluyendo un solo combo de palomitas\")\n",
        "  print(\"su premio en efectivo es de: \", plata)\n",
        "  elif(premio== rosado :\n",
        "  plata =120.000\n",
        "  print(\"su premio en efectivo es de: \", plata )\n",
        " "
      ],
      "execution_count": null,
      "outputs": []
    }
  ]
}